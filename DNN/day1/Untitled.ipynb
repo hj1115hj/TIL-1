{
 "cells": [
  {
   "cell_type": "code",
   "execution_count": 1,
   "metadata": {
    "ExecuteTime": {
     "end_time": "2020-01-20T04:21:59.908196Z",
     "start_time": "2020-01-20T04:21:59.906197Z"
    }
   },
   "outputs": [],
   "source": [
    "import numpy as np\n",
    "import numpy.linalg as lin"
   ]
  },
  {
   "cell_type": "code",
   "execution_count": 2,
   "metadata": {
    "ExecuteTime": {
     "end_time": "2020-01-20T04:21:59.919114Z",
     "start_time": "2020-01-20T04:21:59.909118Z"
    }
   },
   "outputs": [
    {
     "name": "stdout",
     "output_type": "stream",
     "text": [
      "[[1 1]\n",
      " [2 1]]\n",
      "(2, 2)\n",
      "[[-1.  1.]\n",
      " [ 2. -1.]]\n",
      "(2,)\n",
      "(2, 1)\n"
     ]
    }
   ],
   "source": [
    "a = np.array([[1,1],[2,1]])\n",
    "print(a)\n",
    "print(a.shape)\n",
    "\n",
    "a_ = lin.inv(a) #역행열\n",
    "print(a_)\n",
    "\n",
    "y = np.array([2,4])\n",
    "print(y.shape)   # (2,) <-벡터\n",
    "\n",
    "y = np.array([2,4]).reshape(2,1)\n",
    "print(y.shape) # (2, 1) <-행렬"
   ]
  },
  {
   "cell_type": "code",
   "execution_count": 3,
   "metadata": {
    "ExecuteTime": {
     "end_time": "2020-01-20T04:21:59.925075Z",
     "start_time": "2020-01-20T04:21:59.921085Z"
    }
   },
   "outputs": [
    {
     "name": "stdout",
     "output_type": "stream",
     "text": [
      "[[-2.  2.]\n",
      " [ 8. -4.]]\n"
     ]
    }
   ],
   "source": [
    "w=a_ * y #단순한 산술 곱. 차원이 안맞아도 곱해지는 이유 : 브로드캐스팅 기능때문.\n",
    "print(w)"
   ]
  },
  {
   "cell_type": "code",
   "execution_count": 4,
   "metadata": {
    "ExecuteTime": {
     "end_time": "2020-01-20T04:21:59.931132Z",
     "start_time": "2020-01-20T04:21:59.927071Z"
    }
   },
   "outputs": [
    {
     "name": "stdout",
     "output_type": "stream",
     "text": [
      "[[2.]\n",
      " [0.]]\n",
      "(2, 1)\n"
     ]
    }
   ],
   "source": [
    "w = np.matmul(a_,y)\n",
    "print(w)\n",
    "print(w.shape)"
   ]
  },
  {
   "cell_type": "code",
   "execution_count": 5,
   "metadata": {
    "ExecuteTime": {
     "end_time": "2020-01-20T04:21:59.941037Z",
     "start_time": "2020-01-20T04:21:59.932136Z"
    },
    "scrolled": false
   },
   "outputs": [
    {
     "name": "stdout",
     "output_type": "stream",
     "text": [
      "[[1 1]\n",
      " [2 1]\n",
      " [3 1]]\n",
      "(3, 2)\n",
      "[[-5.00000000e-01 -3.19189120e-16  5.00000000e-01]\n",
      " [ 1.33333333e+00  3.33333333e-01 -6.66666667e-01]]\n",
      "(2, 3)\n",
      "[[ 2.2       ]\n",
      " [-0.26666667]]\n"
     ]
    }
   ],
   "source": [
    "# 정방행렬(nxn)이 아닐경우, 역행렬 구하는 법.\n",
    "a = np.array([[1,1],[2,1],[3,1]])\n",
    "print(a)\n",
    "print(a.shape)\n",
    "\n",
    "a_ = lin.pinv(a)\n",
    "print(a_)\n",
    "print(a_.shape)\n",
    "\n",
    "y=np.array([2, 4, 6.4]).reshape(3,1)\n",
    "w=np.matmul(a_,y)\n",
    "print(w)"
   ]
  },
  {
   "cell_type": "code",
   "execution_count": 6,
   "metadata": {
    "ExecuteTime": {
     "end_time": "2020-01-20T04:21:59.953061Z",
     "start_time": "2020-01-20T04:21:59.942030Z"
    }
   },
   "outputs": [
    {
     "name": "stdout",
     "output_type": "stream",
     "text": [
      "1.9333333333333322\n"
     ]
    },
    {
     "data": {
      "text/plain": [
       "array([[-2.46666667],\n",
       "       [-0.26666667],\n",
       "       [ 1.93333333],\n",
       "       [ 4.13333333]])"
      ]
     },
     "execution_count": 6,
     "metadata": {},
     "output_type": "execute_result"
    }
   ],
   "source": [
    "print(1*w[0][0]+w[1][0])\n",
    "# 행렬 a에서 x=1일때 y=1이었지만, 결과는 1.933이 나옴.\n",
    "# w는 선형회귀이기 때문.\n",
    "\n",
    "x_ = np.array([[-1,1],[0,1],[1,1],[2,1]])\n",
    "np.matmul(x_,w)"
   ]
  }
 ],
 "metadata": {
  "kernelspec": {
   "display_name": "Python 3",
   "language": "python",
   "name": "python3"
  },
  "language_info": {
   "codemirror_mode": {
    "name": "ipython",
    "version": 3
   },
   "file_extension": ".py",
   "mimetype": "text/x-python",
   "name": "python",
   "nbconvert_exporter": "python",
   "pygments_lexer": "ipython3",
   "version": "3.7.4"
  },
  "varInspector": {
   "cols": {
    "lenName": 16,
    "lenType": 16,
    "lenVar": 40
   },
   "kernels_config": {
    "python": {
     "delete_cmd_postfix": "",
     "delete_cmd_prefix": "del ",
     "library": "var_list.py",
     "varRefreshCmd": "print(var_dic_list())"
    },
    "r": {
     "delete_cmd_postfix": ") ",
     "delete_cmd_prefix": "rm(",
     "library": "var_list.r",
     "varRefreshCmd": "cat(var_dic_list()) "
    }
   },
   "oldHeight": 202,
   "position": {
    "height": "40px",
    "left": "502px",
    "right": "20px",
    "top": "1px",
    "width": "432px"
   },
   "types_to_exclude": [
    "module",
    "function",
    "builtin_function_or_method",
    "instance",
    "_Feature"
   ],
   "varInspector_section_display": "none",
   "window_display": true
  }
 },
 "nbformat": 4,
 "nbformat_minor": 2
}
