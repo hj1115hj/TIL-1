{
 "cells": [
  {
   "cell_type": "markdown",
   "metadata": {},
   "source": [
    "# 10818\n",
    "- 문제\n",
    "\n",
    "N개의 정수가 주어진다. 이때, 최솟값과 최댓값을 구하는 프로그램을 작성하시오.\n",
    "- 입력\n",
    "\n",
    "첫째 줄에 정수의 개수 N (1 ≤ N ≤ 1,000,000)이 주어진다. 둘째 줄에는 N개의 정수를 공백으로 구분해서 주어진다. 모든 정수는 -1,000,000보다 크거나 같고, 1,000,000보다 작거나 같은 정수이다.\n",
    "- 출력\n",
    "\n",
    "첫째 줄에 주어진 정수 N개의 최솟값과 최댓값을 공백으로 구분해 출력한다.\n",
    "- 예제 입력 1\n",
    "\n",
    "5\n",
    "\n",
    "20 10 35 30 7\n",
    "\n",
    "- 예제 출력 1 \n",
    "\n",
    "7 35"
   ]
  },
  {
   "cell_type": "code",
   "execution_count": 1,
   "metadata": {
    "ExecuteTime": {
     "end_time": "2020-02-05T14:23:07.742671Z",
     "start_time": "2020-02-05T14:23:03.320586Z"
    }
   },
   "outputs": [
    {
     "name": "stdout",
     "output_type": "stream",
     "text": [
      "5\n",
      "20 10 35 30 7\n",
      "7 35\n"
     ]
    }
   ],
   "source": [
    "a=int(input())\n",
    "b=list(map(int, input().split()))\n",
    "print(min(b), max(b))"
   ]
  },
  {
   "cell_type": "markdown",
   "metadata": {},
   "source": [
    "# 2562\n",
    "- 문제\n",
    "\n",
    "9개의 서로 다른 자연수가 주어질 때, 이들 중 최댓값을 찾고 그 최댓값이 몇 번째 수인지를 구하는 프로그램을 작성하시오.\n",
    "\n",
    "예를 들어, 서로 다른 9개의 자연수\n",
    "\n",
    "3, 29, 38, 12, 57, 74, 40, 85, 61\n",
    "\n",
    "이 주어지면, 이들 중 최댓값은 85이고, 이 값은 8번째 수이다.\n",
    "\n",
    "- 입력\n",
    "\n",
    "첫 째 줄부터 아홉 번째 줄까지 한 줄에 하나의 자연수가 주어진다. 주어지는 자연수는 100 보다 작다.\n",
    "\n",
    "- 출력\n",
    "\n",
    "첫째 줄에 최댓값을 출력하고, 둘째 줄에 최댓값이 몇 번째 수인지를 출력한다.\n",
    "\n",
    "- 예제 입력 1 \n",
    "\n",
    "3\n",
    "29\n",
    "38\n",
    "12\n",
    "57\n",
    "74\n",
    "40\n",
    "85\n",
    "61\n",
    "\n",
    "\n",
    "- 예제 출력 1 \n",
    "\n",
    "85\n",
    "8"
   ]
  },
  {
   "cell_type": "code",
   "execution_count": 110,
   "metadata": {
    "ExecuteTime": {
     "end_time": "2020-02-05T14:21:59.590737Z",
     "start_time": "2020-02-05T14:21:49.566349Z"
    }
   },
   "outputs": [
    {
     "name": "stdout",
     "output_type": "stream",
     "text": [
      "3\n",
      "29\n",
      "38\n",
      "12\n",
      "57\n",
      "74\n",
      "40\n",
      "85\n",
      "61\n",
      "85\n",
      "8\n"
     ]
    }
   ],
   "source": [
    "list1=[]\n",
    "for i in range(9):\n",
    "    a=int(input())\n",
    "    list1.append(a)\n",
    "print(max(list1))\n",
    "print(list1.index(max(list1))+1)"
   ]
  },
  {
   "cell_type": "markdown",
   "metadata": {
    "ExecuteTime": {
     "end_time": "2020-02-05T12:51:52.345118Z",
     "start_time": "2020-02-05T12:51:52.339111Z"
    }
   },
   "source": [
    "## 2577\n",
    "- 문제\n",
    "\n",
    "세 개의 자연수 A, B, C가 주어질 때 A×B×C를 계산한 결과에 0부터 9까지 각각의 숫자가 몇 번씩 쓰였는지를 구하는 프로그램을 작성하시오.\n",
    "\n",
    "예를 들어 A = 150, B = 266, C = 427 이라면 \n",
    "\n",
    "A × B × C = 150 × 266 × 427 = 17037300 이 되고, \n",
    "\n",
    "계산한 결과 17037300 에는 0이 3번, 1이 1번, 3이 2번, 7이 2번 쓰였다.\n",
    "\n",
    "- 입력\n",
    "\n",
    "첫째 줄에 A, 둘째 줄에 B, 셋째 줄에 C가 주어진다. A, B, C는 모두 100보다 같거나 크고, 1,000보다 작은 자연수이다.\n",
    "\n",
    "- 출력\n",
    "\n",
    "첫째 줄에는 A×B×C의 결과에 0 이 몇 번 쓰였는지 출력한다. 마찬가지로 둘째 줄부터 열 번째 줄까지 A×B×C의 결과에 1부터 9까지의 숫자가 각각 몇 번 쓰였는지 차례로 한 줄에 하나씩 출력한다.\n",
    "\n",
    "- 예제 입력 1\n",
    "\n",
    "150\n",
    "266\n",
    "427\n",
    "- 예제 출력 1 \n",
    "\n",
    "3\n",
    "1\n",
    "0\n",
    "2\n",
    "0\n",
    "0\n",
    "0\n",
    "2\n",
    "0\n",
    "0"
   ]
  },
  {
   "cell_type": "code",
   "execution_count": 62,
   "metadata": {
    "ExecuteTime": {
     "end_time": "2020-02-05T13:03:07.018841Z",
     "start_time": "2020-02-05T13:03:02.889861Z"
    }
   },
   "outputs": [
    {
     "name": "stdout",
     "output_type": "stream",
     "text": [
      "150\n",
      "266\n",
      "427\n",
      "3\n",
      "1\n",
      "0\n",
      "2\n",
      "0\n",
      "0\n",
      "0\n",
      "2\n",
      "0\n",
      "0\n"
     ]
    }
   ],
   "source": [
    "a1=int(input())\n",
    "a2=int(input())\n",
    "a3=int(input())\n",
    "a=str(a1*a2*a3)\n",
    "\n",
    "a=[int(i) for i in a]\n",
    "\n",
    "for i in range(10):\n",
    "    print(a.count(i))"
   ]
  },
  {
   "cell_type": "markdown",
   "metadata": {},
   "source": [
    "## 3052\n",
    "- 문제\n",
    "\n",
    "두 자연수 A와 B가 있을 때, A%B는 A를 B로 나눈 나머지 이다. 예를 들어, 7, 14, 27, 38을 3으로 나눈 나머지는 1, 2, 0, 2이다. \n",
    "\n",
    "수 10개를 입력받은 뒤, 이를 42로 나눈 나머지를 구한다. 그 다음 서로 다른 값이 몇 개 있는지 출력하는 프로그램을 작성하시오.\n",
    "\n",
    "- 입력\n",
    "\n",
    "첫째 줄부터 열번째 줄 까지 숫자가 한 줄에 하나씩 주어진다. 이 숫자는 1,000보다 작거나 같고, 음이 아닌 정수이다.\n",
    "\n",
    "- 출력\n",
    "\n",
    "첫째 줄에, 42로 나누었을 때, 서로 다른 나머지가 몇 개 있는지 출력한다.\n",
    "\n",
    "- 예제 입력 1 \n",
    "\n",
    "39\n",
    "40\n",
    "41\n",
    "42\n",
    "43\n",
    "44\n",
    "82\n",
    "83\n",
    "84\n",
    "85\n",
    "- 예제 출력 1 \n",
    "\n",
    "6\n",
    "- 힌트\n",
    "\n",
    "39, 40, 41, 42, 43, 44, 82, 83, 84, 85를 42로 나눈 나머지는 39, 40, 41, 0, 1, 2, 40, 41, 0, 1이다. 서로 다른 값은 모두 6개가 있다."
   ]
  },
  {
   "cell_type": "code",
   "execution_count": 77,
   "metadata": {
    "ExecuteTime": {
     "end_time": "2020-02-05T13:44:54.152373Z",
     "start_time": "2020-02-05T13:44:45.982852Z"
    }
   },
   "outputs": [
    {
     "name": "stdout",
     "output_type": "stream",
     "text": [
      "39\n",
      "40\n",
      "41\n",
      "42\n",
      "43\n",
      "44\n",
      "82\n",
      "83\n",
      "84\n",
      "85\n",
      "6\n"
     ]
    }
   ],
   "source": [
    "print(len(set([int(input()) % 42 for i in range(10)])))"
   ]
  },
  {
   "cell_type": "markdown",
   "metadata": {},
   "source": [
    "## 1546\n",
    "- 문제\n",
    "\n",
    "세준이는 기말고사를 망쳤다. 세준이는 점수를 조작해서 집에 가져가기로 했다. 일단 세준이는 자기 점수 중에 최댓값을 골랐다. 이 값을 M이라고 한다. 그리고 나서 모든 점수를 점수/M*100으로 고쳤다.\n",
    "\n",
    "예를 들어, 세준이의 최고점이 70이고, 수학점수가 50이었으면 수학점수는 50/70*100이 되어 71.43점이 된다.\n",
    "\n",
    "세준이의 성적을 위의 방법대로 새로 계산했을 때, 새로운 평균을 구하는 프로그램을 작성하시오.\n",
    "\n",
    "- 입력\n",
    "\n",
    "첫째 줄에 시험 본 과목의 개수 N이 주어진다. 이 값은 1000보다 작거나 같다. 둘째 줄에 세준이의 현재 성적이 주어진다. 이 값은 100보다 작거나 같은 음이 아닌 정수이고, 적어도 하나의 값은 0보다 크다.\n",
    "\n",
    "- 출력\n",
    "\n",
    "첫째 줄에 새로운 평균을 출력한다. 정답과의 절대/상대 오차는 10-2까지 허용한다.\n",
    "\n",
    "- 예제 입력 1 \n",
    "\n",
    "3\n",
    "40 80 60\n",
    "- 예제 출력 1\n",
    "\n",
    "75.00\n",
    "\n",
    "- 예제 입력 2 \n",
    "\n",
    "3\n",
    "\n",
    "10 20 30\n",
    "- 예제 출력 2 \n",
    "\n",
    "66.666667"
   ]
  },
  {
   "cell_type": "code",
   "execution_count": 3,
   "metadata": {
    "ExecuteTime": {
     "end_time": "2020-02-05T14:34:56.206968Z",
     "start_time": "2020-02-05T14:34:52.404669Z"
    }
   },
   "outputs": [
    {
     "name": "stdout",
     "output_type": "stream",
     "text": [
      "3\n",
      "40 60 80\n"
     ]
    },
    {
     "data": {
      "text/plain": [
       "75.0"
      ]
     },
     "execution_count": 3,
     "metadata": {},
     "output_type": "execute_result"
    }
   ],
   "source": [
    "n=int(input())\n",
    "\n",
    "a=list(map(int, input().split()))\n",
    "\n",
    "a=[i/max(a)*100 for i in a]\n",
    "\n",
    "print(sum(a)/n)"
   ]
  },
  {
   "cell_type": "markdown",
   "metadata": {},
   "source": [
    "## 8958\n",
    "- 문제\n",
    "\n",
    "\"OOXXOXXOOO\"와 같은 OX퀴즈의 결과가 있다. O는 문제를 맞은 것이고, X는 문제를 틀린 것이다. 문제를 맞은 경우 그 문제의 점수는 그 문제까지 연속된 O의 개수가 된다. 예를 들어, 10번 문제의 점수는 3이 된다.\n",
    "\n",
    "\"OOXXOXXOOO\"의 점수는 1+2+0+0+1+0+0+1+2+3 = 10점이다.\n",
    "\n",
    "OX퀴즈의 결과가 주어졌을 때, 점수를 구하는 프로그램을 작성하시오.\n",
    "\n",
    "- 입력\n",
    "\n",
    "첫째 줄에 테스트 케이스의 개수가 주어진다. 각 테스트 케이스는 한 줄로 이루어져 있고, 길이가 0보다 크고 80보다 작은 문자열이 주어진다. 문자열은 O와 X만으로 이루어져 있다.\n",
    "\n",
    "- 출력\n",
    "\n",
    "각 테스트 케이스마다 점수를 출력한다.\n",
    "\n",
    "- 예제 입력 1 \n",
    "\n",
    "5\n",
    "\n",
    "OOXXOXXOOO\n",
    "\n",
    "OOXXOOXXOO\n",
    "\n",
    "OXOXOXOXOXOXOX\n",
    "\n",
    "OOOOOOOOOO\n",
    "\n",
    "OOOOXOOOOXOOOOX\n",
    "- 예제 출력 1 \n",
    "\n",
    "10\n",
    "9\n",
    "7\n",
    "55\n",
    "30"
   ]
  },
  {
   "cell_type": "code",
   "execution_count": null,
   "metadata": {
    "ExecuteTime": {
     "end_time": "2020-02-05T14:51:06.268588Z",
     "start_time": "2020-02-05T14:50:51.515129Z"
    }
   },
   "outputs": [],
   "source": [
    "b=int(input())\n",
    "OX = [input() for _ in range(b)]\n",
    "\n",
    "b=[]\n",
    "for ox in OX:\n",
    "    count = 0\n",
    "    b.clear()\n",
    "    for i in range(len(ox)):\n",
    "        if ox[i]=='O':\n",
    "            count += 1\n",
    "            b.append(count)\n",
    "        elif ox[i]=='X':\n",
    "            count = 0\n",
    "    print(sum(b))"
   ]
  },
  {
   "cell_type": "markdown",
   "metadata": {},
   "source": [
    "## 4344\n",
    "- 문제\n",
    "\n",
    "대학생 새내기들의 90%는 자신이 반에서 평균은 넘는다고 생각한다. 당신은 그들에게 슬픈 진실을 알려줘야 한다.\n",
    "\n",
    "- 입력\n",
    "\n",
    "첫째 줄에는 테스트 케이스의 개수 C가 주어진다.\n",
    "\n",
    "둘째 줄부터 각 테스트 케이스마다 학생의 수 N(1 ≤ N ≤ 1000, N은 정수)이 첫 수로 주어지고, 이어서 N명의 점수가 주어진다. 점수는 0보다 크거나 같고, 100보다 작거나 같은 정수이다.\n",
    "\n",
    "- 출력\n",
    "\n",
    "각 케이스마다 한 줄씩 평균을 넘는 학생들의 비율을 반올림하여 소수점 셋째 자리까지 출력한다.\n",
    "\n",
    "- 예제 입력 1 \n",
    "```\n",
    "5\n",
    "5 50 50 70 80 100\n",
    "7 100 95 90 80 70 60 50\n",
    "3 70 90 80\n",
    "3 70 90 81\n",
    "9 100 99 98 97 96 95 94 93 91\n",
    "```\n",
    "- 예제 출력 1 \n",
    "```\n",
    "40.000%\n",
    "57.143%\n",
    "33.333%\n",
    "66.667%\n",
    "55.556%\n",
    "```"
   ]
  },
  {
   "cell_type": "code",
   "execution_count": 24,
   "metadata": {
    "ExecuteTime": {
     "end_time": "2020-02-05T15:54:38.519972Z",
     "start_time": "2020-02-05T15:54:18.710867Z"
    },
    "scrolled": true
   },
   "outputs": [
    {
     "name": "stdout",
     "output_type": "stream",
     "text": [
      "5\n",
      "5 50 50 70 80 100\n",
      "7 100 95 90 80 70 60 50\n",
      "3 70 90 80\n",
      "3 70 90 81\n",
      "9 100 99 98 97 96 95 94 93 91\n"
     ]
    }
   ],
   "source": [
    "num=int(input())\n",
    "A=[list(map(int,input().split())) for _ in range(num)]\n",
    "\n",
    "for a in A:\n",
    "    a.pop(0)\n",
    "    count=0\n",
    "    for v in a :\n",
    "        if v>(sum(a)/len(a)):\n",
    "            count += 1\n",
    "    per=count/len(a)*100\n",
    "    print('%.3f'%per+'%')"
   ]
  },
  {
   "cell_type": "markdown",
   "metadata": {},
   "source": [
    "## 15596\n",
    "정수 n개가 주어졌을 때, n개의 합을 구하는 함수를 작성하시오.\n",
    "\n",
    "a: 합을 구해야 하는 정수 n개가 저장되어 있는 리스트 \n",
    "    (0 ≤ a[i] ≤ 1,000,000, 1 ≤ n ≤ 3,000,000)\n",
    "\n",
    "리턴값: a에 포함되어 있는 정수 n개의 합 (정수)"
   ]
  },
  {
   "cell_type": "code",
   "execution_count": 36,
   "metadata": {
    "ExecuteTime": {
     "end_time": "2020-02-05T16:04:30.874894Z",
     "start_time": "2020-02-05T16:04:30.869910Z"
    }
   },
   "outputs": [
    {
     "data": {
      "text/plain": [
       "21"
      ]
     },
     "execution_count": 36,
     "metadata": {},
     "output_type": "execute_result"
    }
   ],
   "source": [
    "def suma(a):\n",
    "    s=0\n",
    "    for v in a:\n",
    "        s += v\n",
    "    return s\n",
    "\n",
    "a=[1,2,3,4,5,6]\n",
    "suma(a)"
   ]
  },
  {
   "cell_type": "code",
   "execution_count": null,
   "metadata": {},
   "outputs": [],
   "source": []
  },
  {
   "cell_type": "code",
   "execution_count": null,
   "metadata": {},
   "outputs": [],
   "source": []
  },
  {
   "cell_type": "code",
   "execution_count": null,
   "metadata": {},
   "outputs": [],
   "source": []
  },
  {
   "cell_type": "code",
   "execution_count": null,
   "metadata": {},
   "outputs": [],
   "source": []
  },
  {
   "cell_type": "code",
   "execution_count": null,
   "metadata": {},
   "outputs": [],
   "source": []
  },
  {
   "cell_type": "code",
   "execution_count": null,
   "metadata": {},
   "outputs": [],
   "source": []
  },
  {
   "cell_type": "code",
   "execution_count": null,
   "metadata": {},
   "outputs": [],
   "source": []
  },
  {
   "cell_type": "code",
   "execution_count": null,
   "metadata": {},
   "outputs": [],
   "source": []
  }
 ],
 "metadata": {
  "kernelspec": {
   "display_name": "Python 3",
   "language": "python",
   "name": "python3"
  },
  "language_info": {
   "codemirror_mode": {
    "name": "ipython",
    "version": 3
   },
   "file_extension": ".py",
   "mimetype": "text/x-python",
   "name": "python",
   "nbconvert_exporter": "python",
   "pygments_lexer": "ipython3",
   "version": "3.7.4"
  },
  "varInspector": {
   "cols": {
    "lenName": 16,
    "lenType": 16,
    "lenVar": 40
   },
   "kernels_config": {
    "python": {
     "delete_cmd_postfix": "",
     "delete_cmd_prefix": "del ",
     "library": "var_list.py",
     "varRefreshCmd": "print(var_dic_list())"
    },
    "r": {
     "delete_cmd_postfix": ") ",
     "delete_cmd_prefix": "rm(",
     "library": "var_list.r",
     "varRefreshCmd": "cat(var_dic_list()) "
    }
   },
   "types_to_exclude": [
    "module",
    "function",
    "builtin_function_or_method",
    "instance",
    "_Feature"
   ],
   "window_display": false
  }
 },
 "nbformat": 4,
 "nbformat_minor": 2
}
