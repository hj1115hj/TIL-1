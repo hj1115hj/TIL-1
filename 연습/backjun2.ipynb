{
 "cells": [
  {
   "cell_type": "markdown",
   "metadata": {},
   "source": [
    "## 10844\n",
    "- 문제\n",
    "\n",
    "45656이란 수를 보자.\n",
    "\n",
    "이 수는 인접한 모든 자리수의 차이가 1이 난다. 이런 수를 계단 수라고 한다.\n",
    "\n",
    "세준이는 수의 길이가 N인 계단 수가 몇 개 있는지 궁금해졌다.\n",
    "\n",
    "N이 주어질 때, 길이가 N인 계단 수가 총 몇 개 있는지 구하는 프로그램을 작성하시오. (0으로 시작하는 수는 없다.)\n",
    "\n",
    "- 입력\n",
    "\n",
    "첫째 줄에 N이 주어진다. N은 1보다 크거나 같고, 100보다 작거나 같은 자연수이다.\n",
    "\n",
    "- 출력\n",
    "\n",
    "첫째 줄에 정답을 1,000,000,000으로 나눈 나머지를 출력한다.\n",
    "```\n",
    "예제 입력 1 \n",
    "1\n",
    "예제 출력 1 \n",
    "9\n",
    "예제 입력 2 \n",
    "2\n",
    "예제 출력 2 \n",
    "17\n",
    "```"
   ]
  },
  {
   "cell_type": "code",
   "execution_count": 1,
   "metadata": {},
   "outputs": [
    {
     "name": "stdin",
     "output_type": "stream",
     "text": [
      " 50\n"
     ]
    },
    {
     "name": "stdout",
     "output_type": "stream",
     "text": [
      "627370497\n"
     ]
    }
   ],
   "source": [
    "n=int(input())\n",
    "lst=[9]\n",
    "for i in range(n-1):\n",
    "    a=lst[-1]\n",
    "    lst.append(((a-1)*2)+1)\n",
    "\n",
    "print(lst[n-1]%1000000000)"
   ]
  },
  {
   "cell_type": "markdown",
   "metadata": {},
   "source": [
    "## 11053\n",
    "- 문제\n",
    "\n",
    "수열 A가 주어졌을 때, 가장 긴 증가하는 부분 수열을 구하는 프로그램을 작성하시오.\n",
    "\n",
    "예를 들어, 수열 A = {10, 20, 10, 30, 20, 50} 인 경우에 가장 긴 증가하는 부분 수열은 A = {10, 20, 10, 30, 20, 50} 이고, 길이는 4이다.\n",
    "\n",
    "- 입력\n",
    "\n",
    "첫째 줄에 수열 A의 크기 N (1 ≤ N ≤ 1,000)이 주어진다.\n",
    "\n",
    "둘째 줄에는 수열 A를 이루고 있는 Ai가 주어진다. (1 ≤ Ai ≤ 1,000)\n",
    "\n",
    "- 출력\n",
    "\n",
    "첫째 줄에 수열 A의 가장 긴 증가하는 부분 수열의 길이를 출력한다.\n",
    "```\n",
    "예제 입력 1 \n",
    "6\n",
    "10 20 10 30 20 50\n",
    "예제 출력 1 \n",
    "4\n",
    "```"
   ]
  },
  {
   "cell_type": "code",
   "execution_count": 42,
   "metadata": {},
   "outputs": [
    {
     "name": "stdin",
     "output_type": "stream",
     "text": [
      " 6\n",
      " 10 20 10 30 20 50\n"
     ]
    },
    {
     "name": "stdout",
     "output_type": "stream",
     "text": [
      "4\n"
     ]
    }
   ],
   "source": [
    "n=int(input())\n",
    "lst=list(map(int,input().split()))\n",
    "\n",
    "seq=[]\n",
    "for i in range(n):\n",
    "    temp=[0]\n",
    "    for j in range(i):\n",
    "        if lst[i] > lst[j]:\n",
    "            if lst[j] > temp[-1]:\n",
    "                temp.append(lst[j])\n",
    "    temp.pop(0)\n",
    "    temp.append(lst[i])\n",
    "#     print(temp)\n",
    "    seq.append(len(temp))\n",
    "\n",
    "print(max(seq))"
   ]
  },
  {
   "cell_type": "markdown",
   "metadata": {},
   "source": [
    "## 11047\n",
    "- 문제\n",
    "\n",
    "준규가 가지고 있는 동전은 총 N종류이고, 각각의 동전을 매우 많이 가지고 있다.\n",
    "\n",
    "동전을 적절히 사용해서 그 가치의 합을 K로 만들려고 한다. 이때 필요한 동전 개수의 최솟값을 구하는 프로그램을 작성하시오.\n",
    "\n",
    "- 입력\n",
    "\n",
    "첫째 줄에 N과 K가 주어진다. (1 ≤ N ≤ 10, 1 ≤ K ≤ 100,000,000)\n",
    "\n",
    "둘째 줄부터 N개의 줄에 동전의 가치 Ai가 오름차순으로 주어진다. (1 ≤ Ai ≤ 1,000,000, A1 = 1, i ≥ 2인 경우에 Ai는 Ai-1의 배수)\n",
    "\n",
    "- 출력\n",
    "\n",
    "첫째 줄에 K원을 만드는데 필요한 동전 개수의 최솟값을 출력한다.\n",
    "```\n",
    "예제 입력 1 \n",
    "10 4200\n",
    "1\n",
    "5\n",
    "10\n",
    "50\n",
    "100\n",
    "500\n",
    "1000\n",
    "5000\n",
    "10000\n",
    "50000\n",
    "예제 출력 1 \n",
    "6\n",
    "```"
   ]
  },
  {
   "cell_type": "code",
   "execution_count": 96,
   "metadata": {},
   "outputs": [
    {
     "name": "stdin",
     "output_type": "stream",
     "text": [
      " 3 1500\n",
      " 10\n",
      " 100\n",
      " 500\n"
     ]
    },
    {
     "name": "stdout",
     "output_type": "stream",
     "text": [
      "3\n"
     ]
    }
   ],
   "source": [
    "n,total=map(int,input().split())\n",
    "\n",
    "don=[int(input()) for _ in range(n)]\n",
    "don.reverse()\n",
    "don\n",
    "\n",
    "cnt=0\n",
    "for d in don:\n",
    "    a=total//d\n",
    "#     print(a)\n",
    "    if a>0:\n",
    "        cnt+=a\n",
    "        total -= d*a\n",
    "#     print(d, total)\n",
    "print(cnt)"
   ]
  },
  {
   "cell_type": "markdown",
   "metadata": {},
   "source": [
    "## 1931\n",
    "- 문제\n",
    "\n",
    "한 개의 회의실이 있는데 이를 사용하고자 하는 N개의 회의에 대하여 회의실 사용표를 만들려고 한다. 각 회의 I에 대해 시작시간과 끝나는 시간이 주어져 있고, 각 회의가 겹치지 않게 하면서 회의실을 사용할 수 있는 최대수의 회의를 찾아라. 단, 회의는 한번 시작하면 중간에 중단될 수 없으며 한 회의가 끝나는 것과 동시에 다음 회의가 시작될 수 있다. 회의의 시작시간과 끝나는 시간이 같을 수도 있다. 이 경우에는 시작하자마자 끝나는 것으로 생각하면 된다.\n",
    "\n",
    "- 입력\n",
    "\n",
    "첫째 줄에 회의의 수 N(1 ≤ N ≤ 100,000)이 주어진다. 둘째 줄부터 N+1 줄까지 각 회의의 정보가 주어지는데 이것은 공백을 사이에 두고 회의의 시작시간과 끝나는 시간이 주어진다. 시작 시간과 끝나는 시간은 231-1보다 작거나 같은 자연수 또는 0이다.\n",
    "\n",
    "- 출력\n",
    "\n",
    "첫째 줄에 최대 사용할 수 있는 회의 수를 출력하여라.\n",
    "```\n",
    "예제 입력 1 \n",
    "11\n",
    "1 4\n",
    "3 5\n",
    "0 6\n",
    "5 7\n",
    "3 8\n",
    "5 9\n",
    "6 10\n",
    "8 11\n",
    "8 12\n",
    "2 13\n",
    "12 14\n",
    "예제 출력 1 \n",
    "4\n",
    "```"
   ]
  },
  {
   "cell_type": "code",
   "execution_count": 232,
   "metadata": {},
   "outputs": [],
   "source": [
    "n=11\n",
    "time=[[1, 4],\n",
    "[3, 5],\n",
    "[0, 6],\n",
    "[5, 7],\n",
    "[3, 8],\n",
    "[5, 9],\n",
    "[6, 10],\n",
    "[8, 11],\n",
    "[8, 12],\n",
    "[2, 13],\n",
    "[12, 14]]"
   ]
  },
  {
   "cell_type": "code",
   "execution_count": 234,
   "metadata": {},
   "outputs": [
    {
     "name": "stdin",
     "output_type": "stream",
     "text": [
      " 2\n",
      " 1 4\n",
      " 3 5\n"
     ]
    }
   ],
   "source": [
    "n=int(input())\n",
    "time=[list(map(int,input().split())) for i in range(n)]"
   ]
  },
  {
   "cell_type": "code",
   "execution_count": 235,
   "metadata": {},
   "outputs": [
    {
     "data": {
      "text/plain": [
       "[[1, 4], [3, 5]]"
      ]
     },
     "execution_count": 235,
     "metadata": {},
     "output_type": "execute_result"
    }
   ],
   "source": []
  },
  {
   "cell_type": "code",
   "execution_count": 288,
   "metadata": {},
   "outputs": [
    {
     "name": "stdout",
     "output_type": "stream",
     "text": [
      "4\n"
     ]
    }
   ],
   "source": [
    "import sys\n",
    "n=int(input())\n",
    "time=[]\n",
    "for _ in range(n):\n",
    "    time.append(list(map(int, sys.stdin.readline().split())))\n",
    "\n",
    "# n=11\n",
    "# time=[[1, 4],\n",
    "# [3, 5],\n",
    "# [0, 6],\n",
    "# [5, 7],\n",
    "# [3, 8],\n",
    "# [5, 9],\n",
    "# [6, 10],\n",
    "# [8, 11],\n",
    "# [8, 12],\n",
    "# [2, 13],\n",
    "# [12, 14]]\n",
    "\n",
    "time.sort(key=lambda x : (x[1],x[0]))\n",
    "\n",
    "cnt=0\n",
    "for i in range(n):\n",
    "    if i==0:\n",
    "        t=time[i][1]\n",
    "        cnt += 1\n",
    "        continue\n",
    "    if time[i][0]>=t:\n",
    "        cnt += 1\n",
    "        t=time[i][1]\n",
    "    \n",
    "print(cnt)"
   ]
  },
  {
   "cell_type": "markdown",
   "metadata": {},
   "source": [
    "## 11399\n",
    "- 문제\n",
    "\n",
    "인하은행에는 ATM이 1대밖에 없다. 지금 이 ATM앞에 N명의 사람들이 줄을 서있다. 사람은 1번부터 N번까지 번호가 매겨져 있으며, i번 사람이 돈을 인출하는데 걸리는 시간은 Pi분이다.\n",
    "\n",
    "사람들이 줄을 서는 순서에 따라서, 돈을 인출하는데 필요한 시간의 합이 달라지게 된다. 예를 들어, 총 5명이 있고, P1 = 3, P2 = 1, P3 = 4, P4 = 3, P5 = 2 인 경우를 생각해보자. [1, 2, 3, 4, 5] 순서로 줄을 선다면, 1번 사람은 3분만에 돈을 뽑을 수 있다. 2번 사람은 1번 사람이 돈을 뽑을 때 까지 기다려야 하기 때문에, 3+1 = 4분이 걸리게 된다. 3번 사람은 1번, 2번 사람이 돈을 뽑을 때까지 기다려야 하기 때문에, 총 3+1+4 = 8분이 필요하게 된다. 4번 사람은 3+1+4+3 = 11분, 5번 사람은 3+1+4+3+2 = 13분이 걸리게 된다. 이 경우에 각 사람이 돈을 인출하는데 필요한 시간의 합은 3+4+8+11+13 = 39분이 된다.\n",
    "\n",
    "줄을 [2, 5, 1, 4, 3] 순서로 줄을 서면, 2번 사람은 1분만에, 5번 사람은 1+2 = 3분, 1번 사람은 1+2+3 = 6분, 4번 사람은 1+2+3+3 = 9분, 3번 사람은 1+2+3+3+4 = 13분이 걸리게 된다. 각 사람이 돈을 인출하는데 필요한 시간의 합은 1+3+6+9+13 = 32분이다. 이 방법보다 더 필요한 시간의 합을 최소로 만들 수는 없다.\n",
    "\n",
    "줄을 서 있는 사람의 수 N과 각 사람이 돈을 인출하는데 걸리는 시간 Pi가 주어졌을 때, 각 사람이 돈을 인출하는데 필요한 시간의 합의 최솟값을 구하는 프로그램을 작성하시오.\n",
    "\n",
    "- 입력\n",
    "\n",
    "첫째 줄에 사람의 수 N(1 ≤ N ≤ 1,000)이 주어진다. 둘째 줄에는 각 사람이 돈을 인출하는데 걸리는 시간 Pi가 주어진다. (1 ≤ Pi ≤ 1,000)\n",
    "\n",
    "- 출력\n",
    "\n",
    "첫째 줄에 각 사람이 돈을 인출하는데 필요한 시간의 합의 최솟값을 출력한다.\n",
    "```\n",
    "예제 입력 1 \n",
    "5\n",
    "3 1 4 3 2\n",
    "예제 출력 1 \n",
    "32\n",
    "```"
   ]
  },
  {
   "cell_type": "code",
   "execution_count": 310,
   "metadata": {},
   "outputs": [
    {
     "name": "stdin",
     "output_type": "stream",
     "text": [
      " 5\n",
      " 3 1 4 3 2\n"
     ]
    },
    {
     "name": "stdout",
     "output_type": "stream",
     "text": [
      "32\n"
     ]
    }
   ],
   "source": [
    "n=int(input())\n",
    "p=list(map(int, input().split()))\n",
    "\n",
    "p.sort()\n",
    "\n",
    "a=0\n",
    "for i in range(1,n+1):\n",
    "#     print(p[:i])\n",
    "    a += sum(p[:i])\n",
    "print(a)"
   ]
  },
  {
   "cell_type": "markdown",
   "metadata": {},
   "source": [
    "## 1541\n",
    "- 문제\n",
    "\n",
    "세준이는 양수와 +, -, 그리고 괄호를 가지고 길이가 최대 50인 식을 만들었다. 그리고 나서 세준이는 괄호를 모두 지웠다.\n",
    "\n",
    "그리고 나서 세준이는 괄호를 적절히 쳐서 이 식의 값을 최소로 만들려고 한다.\n",
    "\n",
    "괄호를 적절히 쳐서 이 식의 값을 최소로 만드는 프로그램을 작성하시오.\n",
    "\n",
    "- 입력\n",
    "\n",
    "첫째 줄에 식이 주어진다. 식은 ‘0’~‘9’, ‘+’, 그리고 ‘-’만으로 이루어져 있고, 가장 처음과 마지막 문자는 숫자이다. 그리고 연속해서 두 개 이상의 연산자가 나타나지 않고, 5자리보다 많이 연속되는 숫자는 없다. 수는 0으로 시작할 수 있다.\n",
    "\n",
    "- 출력\n",
    "\n",
    "첫째 줄에 정답을 출력한다.\n",
    "```\n",
    "예제 입력 1 \n",
    "55-50+40\n",
    "예제 출력 1 \n",
    "-35\n",
    "```"
   ]
  },
  {
   "cell_type": "code",
   "execution_count": 311,
   "metadata": {},
   "outputs": [],
   "source": [
    "sik='55-50+40'"
   ]
  },
  {
   "cell_type": "code",
   "execution_count": 314,
   "metadata": {},
   "outputs": [
    {
     "data": {
      "text/plain": [
       "['55-50', '40']"
      ]
     },
     "execution_count": 314,
     "metadata": {},
     "output_type": "execute_result"
    }
   ],
   "source": [
    "sik.split(sep='+')"
   ]
  },
  {
   "cell_type": "code",
   "execution_count": 316,
   "metadata": {},
   "outputs": [],
   "source": [
    "sik=sik.split(sep='-')"
   ]
  },
  {
   "cell_type": "code",
   "execution_count": 317,
   "metadata": {},
   "outputs": [
    {
     "data": {
      "text/plain": [
       "['55', '50+40']"
      ]
     },
     "execution_count": 317,
     "metadata": {},
     "output_type": "execute_result"
    }
   ],
   "source": [
    "sik"
   ]
  },
  {
   "cell_type": "code",
   "execution_count": 322,
   "metadata": {},
   "outputs": [],
   "source": [
    "for si in sik:\n",
    "    if '+' in si:\n",
    "        temp=si.split('+')"
   ]
  },
  {
   "cell_type": "code",
   "execution_count": 323,
   "metadata": {},
   "outputs": [
    {
     "data": {
      "text/plain": [
       "['50', '40']"
      ]
     },
     "execution_count": 323,
     "metadata": {},
     "output_type": "execute_result"
    }
   ],
   "source": [
    "temp"
   ]
  },
  {
   "cell_type": "code",
   "execution_count": null,
   "metadata": {},
   "outputs": [],
   "source": []
  }
 ],
 "metadata": {
  "kernelspec": {
   "display_name": "Python 3",
   "language": "python",
   "name": "python3"
  },
  "language_info": {
   "codemirror_mode": {
    "name": "ipython",
    "version": 3
   },
   "file_extension": ".py",
   "mimetype": "text/x-python",
   "name": "python",
   "nbconvert_exporter": "python",
   "pygments_lexer": "ipython3",
   "version": "3.7.4"
  }
 },
 "nbformat": 4,
 "nbformat_minor": 4
}
