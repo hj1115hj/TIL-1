{
 "cells": [
  {
   "cell_type": "markdown",
   "metadata": {
    "ExecuteTime": {
     "end_time": "2020-02-06T00:34:32.298386Z",
     "start_time": "2020-02-06T00:34:32.282824Z"
    }
   },
   "source": [
    "http : 다운로드 서버. 완료 후 연결 X\n",
    "대다수의 기능은 브라우져의 기능"
   ]
  },
  {
   "cell_type": "code",
   "execution_count": null,
   "metadata": {
    "ExecuteTime": {
     "end_time": "2020-02-06T07:48:15.920465Z",
     "start_time": "2020-02-06T07:48:15.916476Z"
    }
   },
   "outputs": [],
   "source": [
    "class User:\n",
    "    def __init__(self):\n",
    "        self.win =0\n",
    "        self.lose=0\n",
    "        self.draw=0\n",
    "        "
   ]
  },
  {
   "cell_type": "code",
   "execution_count": 3,
   "metadata": {
    "ExecuteTime": {
     "end_time": "2020-02-06T07:48:15.920465Z",
     "start_time": "2020-02-06T07:48:15.916476Z"
    }
   },
   "outputs": [],
   "source": [
    "p1 = User()\n",
    "\n",
    "p1.win=3\n",
    "p1.lose=5"
   ]
  },
  {
   "cell_type": "code",
   "execution_count": 9,
   "metadata": {
    "ExecuteTime": {
     "end_time": "2020-02-06T07:49:43.960911Z",
     "start_time": "2020-02-06T07:49:43.956954Z"
    }
   },
   "outputs": [],
   "source": [
    "p2 = User()\n",
    "\n",
    "p2.win=20\n",
    "p2.lose=4"
   ]
  },
  {
   "cell_type": "code",
   "execution_count": 10,
   "metadata": {
    "ExecuteTime": {
     "end_time": "2020-02-06T07:49:48.317753Z",
     "start_time": "2020-02-06T07:49:48.309776Z"
    }
   },
   "outputs": [
    {
     "data": {
      "text/plain": [
       "20"
      ]
     },
     "execution_count": 10,
     "metadata": {},
     "output_type": "execute_result"
    }
   ],
   "source": [
    "p2.win"
   ]
  }
 ],
 "metadata": {
  "kernelspec": {
   "display_name": "Python 3",
   "language": "python",
   "name": "python3"
  },
  "language_info": {
   "codemirror_mode": {
    "name": "ipython",
    "version": 3
   },
   "file_extension": ".py",
   "mimetype": "text/x-python",
   "name": "python",
   "nbconvert_exporter": "python",
   "pygments_lexer": "ipython3",
   "version": "3.7.4"
  },
  "varInspector": {
   "cols": {
    "lenName": 16,
    "lenType": 16,
    "lenVar": 40
   },
   "kernels_config": {
    "python": {
     "delete_cmd_postfix": "",
     "delete_cmd_prefix": "del ",
     "library": "var_list.py",
     "varRefreshCmd": "print(var_dic_list())"
    },
    "r": {
     "delete_cmd_postfix": ") ",
     "delete_cmd_prefix": "rm(",
     "library": "var_list.r",
     "varRefreshCmd": "cat(var_dic_list()) "
    }
   },
   "types_to_exclude": [
    "module",
    "function",
    "builtin_function_or_method",
    "instance",
    "_Feature"
   ],
   "window_display": false
  }
 },
 "nbformat": 4,
 "nbformat_minor": 2
}
