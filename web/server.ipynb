{
 "cells": [
  {
   "cell_type": "code",
   "execution_count": 2,
   "metadata": {},
   "outputs": [],
   "source": [
    "# https://soooprmx.com/archives/8737\n",
    "import socket\n",
    "from datetime import datetime\n",
    "import subprocess"
   ]
  },
  {
   "cell_type": "code",
   "execution_count": 2,
   "metadata": {},
   "outputs": [
    {
     "name": "stdout",
     "output_type": "stream",
     "text": [
      "listening\n",
      "accepting\n",
      "receive : hello\n",
      "send data\n",
      "종료\n"
     ]
    }
   ],
   "source": [
    "server_socket = socket.socket(socket.AF_INET, socket.SOCK_STREAM) #TCP/IP\n",
    "\n",
    "server_socket.bind(('localhost', 12345)) #아이피 주소, 포트\n",
    "server_socket.listen(0)\n",
    "print('listening')\n",
    "\n",
    "client_socket, addr = server_socket.accept()\n",
    "print('accepting')\n",
    "\n",
    "data = client_socket.recv(65535) # 64비트(8바이트)로 받음.\n",
    "print('receive : '+data.decode())\n",
    "\n",
    "client_socket.send(data)\n",
    "print('send data')\n",
    "client_socket.close()\n",
    "print('종료')"
   ]
  },
  {
   "cell_type": "code",
   "execution_count": 11,
   "metadata": {},
   "outputs": [
    {
     "name": "stdout",
     "output_type": "stream",
     "text": [
      "listening\n",
      "accepting\n",
      "receive : POST / HTTP/1.1\n",
      "Host: 127.0.0.1\n",
      "Connection: keep-alive\n",
      "Content-Length: 8\n",
      "Cache-Control: max-age=0\n",
      "Upgrade-Insecure-Requests: 1\n",
      "Origin: null\n",
      "Content-Type: application/x-www-form-urlencoded\n",
      "User-Agent: Mozilla/5.0 (Windows NT 10.0; Win64; x64) AppleWebKit/537.36 (KHTML, like Gecko) Chrome/79.0.3945.130 Safari/537.36\n",
      "Sec-Fetch-User: ?1\n",
      "Accept: text/html,application/xhtml+xml,application/xml;q=0.9,image/webp,image/apng,*/*;q=0.8,application/signed-exchange;v=b3;q=0.9\n",
      "Sec-Fetch-Site: cross-site\n",
      "Sec-Fetch-Mode: navigate\n",
      "Accept-Encoding: gzip, deflate, br\n",
      "Accept-Language: ko-KR,ko;q=0.9,en-US;q=0.8,en;q=0.7\n",
      "\n",
      "id=hello\n",
      "종료\n"
     ]
    }
   ],
   "source": [
    "# 80번 포트 사용. web server\n",
    "server_socket = socket.socket(socket.AF_INET, socket.SOCK_STREAM) #TCP/IP\n",
    "\n",
    "server_socket.bind(('localhost', 80)) #아이피 주소, 포트\n",
    "server_socket.listen(0)\n",
    "print('listening')\n",
    "\n",
    "client_socket, addr = server_socket.accept()\n",
    "print('accepting')\n",
    "\n",
    "data = client_socket.recv(65535) # 64비트(8바이트)로 받음.\n",
    "print('receive : '+data.decode())\n",
    "\n",
    "client_socket.close()\n",
    "print('종료')"
   ]
  },
  {
   "cell_type": "code",
   "execution_count": 12,
   "metadata": {},
   "outputs": [
    {
     "name": "stdout",
     "output_type": "stream",
     "text": [
      "listening\n",
      "accepting\n",
      "receive : POST / HTTP/1.1\n",
      "Host: 127.0.0.1\n",
      "Connection: keep-alive\n",
      "Content-Length: 8\n",
      "Cache-Control: max-age=0\n",
      "Upgrade-Insecure-Requests: 1\n",
      "Origin: null\n",
      "Content-Type: application/x-www-form-urlencoded\n",
      "User-Agent: Mozilla/5.0 (Windows NT 10.0; Win64; x64) AppleWebKit/537.36 (KHTML, like Gecko) Chrome/79.0.3945.130 Safari/537.36\n",
      "Sec-Fetch-User: ?1\n",
      "Accept: text/html,application/xhtml+xml,application/xml;q=0.9,image/webp,image/apng,*/*;q=0.8,application/signed-exchange;v=b3;q=0.9\n",
      "Sec-Fetch-Site: cross-site\n",
      "Sec-Fetch-Mode: navigate\n",
      "Accept-Encoding: gzip, deflate, br\n",
      "Accept-Language: ko-KR,ko;q=0.9,en-US;q=0.8,en;q=0.7\n",
      "\n",
      "id=hello\n",
      "종료\n"
     ]
    }
   ],
   "source": [
    "# 80번 포트 사용. web server\n",
    "server_socket = socket.socket(socket.AF_INET, socket.SOCK_STREAM) #TCP/IP\n",
    "\n",
    "server_socket.bind(('localhost', 80)) #아이피 주소, 포트\n",
    "server_socket.listen(0)\n",
    "print('listening')\n",
    "\n",
    "client_socket, addr = server_socket.accept()\n",
    "print('accepting')\n",
    "\n",
    "data = client_socket.recv(65535) # 64비트(8바이트)로 받음.\n",
    "print('receive : '+data.decode())\n",
    "\n",
    "client_socket.send('HTTP/1.0 200 OK\\r\\n\\r\\n<font color=red>Hello</font>'.encode('utf-8'))\n",
    "\n",
    "client_socket.close()\n",
    "print('종료')"
   ]
  },
  {
   "cell_type": "code",
   "execution_count": null,
   "metadata": {
    "collapsed": true,
    "jupyter": {
     "outputs_hidden": true
    }
   },
   "outputs": [
    {
     "name": "stdout",
     "output_type": "stream",
     "text": [
      "listening\n",
      "accepting\n",
      "receive : POST / HTTP/1.1\n",
      "Host: 127.0.0.1\n",
      "Connection: keep-alive\n",
      "Content-Length: 9\n",
      "Cache-Control: max-age=0\n",
      "Upgrade-Insecure-Requests: 1\n",
      "Origin: null\n",
      "Content-Type: application/x-www-form-urlencoded\n",
      "User-Agent: Mozilla/5.0 (Windows NT 10.0; Win64; x64) AppleWebKit/537.36 (KHTML, like Gecko) Chrome/79.0.3945.130 Safari/537.36\n",
      "Sec-Fetch-User: ?1\n",
      "Accept: text/html,application/xhtml+xml,application/xml;q=0.9,image/webp,image/apng,*/*;q=0.8,application/signed-exchange;v=b3;q=0.9\n",
      "Sec-Fetch-Site: cross-site\n",
      "Sec-Fetch-Mode: navigate\n",
      "Accept-Encoding: gzip, deflate, br\n",
      "Accept-Language: ko-KR,ko;q=0.9,en-US;q=0.8,en;q=0.7\n",
      "\n",
      "id=hello2\n",
      "accepting\n",
      "receive : GET /favicon.ico HTTP/1.1\n",
      "Host: 127.0.0.1\n",
      "Connection: keep-alive\n",
      "User-Agent: Mozilla/5.0 (Windows NT 10.0; Win64; x64) AppleWebKit/537.36 (KHTML, like Gecko) Chrome/79.0.3945.130 Safari/537.36\n",
      "Accept: image/webp,image/apng,image/*,*/*;q=0.8\n",
      "Sec-Fetch-Site: same-origin\n",
      "Sec-Fetch-Mode: no-cors\n",
      "Referer: http://127.0.0.1/\n",
      "Accept-Encoding: gzip, deflate, br\n",
      "Accept-Language: ko-KR,ko;q=0.9,en-US;q=0.8,en;q=0.7\n",
      "\n",
      "\n",
      "accepting\n",
      "receive : GET /favicon.ico HTTP/1.1\n",
      "Host: 127.0.0.1\n",
      "Connection: keep-alive\n",
      "User-Agent: Mozilla/5.0 (Windows NT 10.0; Win64; x64) AppleWebKit/537.36 (KHTML, like Gecko) Chrome/79.0.3945.130 Safari/537.36\n",
      "Accept: image/webp,image/apng,image/*,*/*;q=0.8\n",
      "Sec-Fetch-Site: same-origin\n",
      "Sec-Fetch-Mode: no-cors\n",
      "Referer: http://127.0.0.1/\n",
      "Accept-Encoding: gzip, deflate, br\n",
      "Accept-Language: ko-KR,ko;q=0.9,en-US;q=0.8,en;q=0.7\n",
      "\n",
      "\n",
      "accepting\n",
      "receive : GET /favicon.ico HTTP/1.1\n",
      "Host: 127.0.0.1\n",
      "Connection: keep-alive\n",
      "User-Agent: Mozilla/5.0 (Windows NT 10.0; Win64; x64) AppleWebKit/537.36 (KHTML, like Gecko) Chrome/79.0.3945.130 Safari/537.36\n",
      "Accept: image/webp,image/apng,image/*,*/*;q=0.8\n",
      "Sec-Fetch-Site: same-origin\n",
      "Sec-Fetch-Mode: no-cors\n",
      "Referer: http://127.0.0.1/\n",
      "Accept-Encoding: gzip, deflate, br\n",
      "Accept-Language: ko-KR,ko;q=0.9,en-US;q=0.8,en;q=0.7\n",
      "\n",
      "\n",
      "accepting\n",
      "receive : \n"
     ]
    }
   ],
   "source": [
    "import socket\n",
    "server_socket = socket.socket(socket.AF_INET, socket.SOCK_STREAM) #TCP/IP\n",
    "\n",
    "server_socket.bind(('localhost', 80)) #아이피 주소, 포트\n",
    "server_socket.listen(0)\n",
    "print('listening')\n",
    "\n",
    "while True :\n",
    "    client_socket, addr = server_socket.accept()\n",
    "    print('accepting')\n",
    "\n",
    "    data = client_socket.recv(65535) # 64비트(8바이트)로 받음.\n",
    "    print('receive : '+data.decode())\n",
    "\n",
    "    client_socket.send('HTTP/1.0 200 OK\\r\\n\\r\\n<font color=red>Hello</font>'.encode('utf-8'))\n",
    "\n",
    "    client_socket.close()"
   ]
  },
  {
   "cell_type": "code",
   "execution_count": 8,
   "metadata": {},
   "outputs": [
    {
     "name": "stdout",
     "output_type": "stream",
     "text": [
      "listening\n",
      "accepting\n"
     ]
    }
   ],
   "source": [
    "import socket\n",
    "from datetime import datetime\n",
    "server_socket = socket.socket(socket.AF_INET, socket.SOCK_STREAM) #TCP/IP\n",
    "\n",
    "server_socket.bind(('localhost', 80)) #아이피 주소, 포트\n",
    "server_socket.listen(0)\n",
    "print('listening')\n",
    "\n",
    "if True : \n",
    "    client_socket, addr = server_socket.accept()\n",
    "    print('accepting')\n",
    "\n",
    "    data = client_socket.recv(65535) # 64비트(8바이트)로 받음.\n",
    "#     print(data.decode())\n",
    "    data = data.decode()\n",
    "\n",
    "    headers = data.split('\\r\\n')\n",
    "#     print(headers[0])\n",
    "    filename = headers[0].split()[1]\n",
    "#     print(filename)\n",
    "    file = open('.'+filename, 'rt', encoding='utf-8')\n",
    "    html = file.read()\n",
    "#     print(html)\n",
    "    \n",
    "    header = 'HTTP/1.0 200 OK\\r\\n\\r\\n'\n",
    "    \n",
    "    client_socket.send(header.encode('utf-8'))\n",
    "    client_socket.send(html.encode('utf-8'))\n",
    "    client_socket.close()"
   ]
  },
  {
   "cell_type": "code",
   "execution_count": null,
   "metadata": {},
   "outputs": [
    {
     "name": "stdout",
     "output_type": "stream",
     "text": [
      "listening\n",
      "accepting\n",
      "accepting\n",
      "accepting\n",
      "accepting\n",
      "accepting\n",
      "list index out of range\n"
     ]
    }
   ],
   "source": [
    "import socket\n",
    "from datetime import datetime\n",
    "import subprocess\n",
    "server_socket = socket.socket(socket.AF_INET, socket.SOCK_STREAM) #TCP/IP\n",
    "\n",
    "server_socket.bind(('localhost', 80)) #아이피 주소, 포트\n",
    "server_socket.listen(0)\n",
    "print('listening')\n",
    "\n",
    "while True : \n",
    "    client_socket, addr = server_socket.accept()\n",
    "    print('accepting')\n",
    "\n",
    "    data = client_socket.recv(65535) # 64비트(8바이트)로 받음.\n",
    "    data = data.decode()\n",
    "    \n",
    "    try :\n",
    "        headers = data.split('\\r\\n')\n",
    "        filename = headers[0].split()[1]\n",
    "#         print(filename)\n",
    "    \n",
    "        if '.html' in filename:\n",
    "            file = open('.'+filename, 'rt', encoding='utf-8')\n",
    "            html = file.read()\n",
    "            header = 'HTTP/1.0 200 OK\\r\\n\\r\\n'\n",
    "            client_socket.send(header.encode('utf-8'))\n",
    "            client_socket.send(html.encode('utf-8'))\n",
    "            file.close()\n",
    "\n",
    "        elif '.py' in filename:\n",
    "            header = 'HTTP/1.0 200 OK\\r\\n\\r\\n'\n",
    "            html = subprocess.check_output(['python.exe', '.'+filename])\n",
    "            html = html.decode('cp949')\n",
    "\n",
    "            client_socket.send(header.encode('utf-8'))\n",
    "            client_socket.send(html.encode('utf-8'))\n",
    "\n",
    "        elif '.jpg' in filename:\n",
    "            client_socket.send('HTTP/1.0 200 OK\\r\\n'.encode())\n",
    "            client_socket.send('Content-Type: image/jpg\\r\\n'.encode())\n",
    "            client_socket.send(\"Accept-Ranges: bytes\\r\\n\\r\\n\".encode()) #헤더랑 본문 사이 빈칸 두번으로 구분.\n",
    "            file = open('.'+filename, 'rb')\n",
    "            client_socket.send(file.read())\n",
    "            file.close()\n",
    "\n",
    "        else : \n",
    "            header = 'HTTP/1.0 404 File Not Found\\r\\n\\r\\n'\n",
    "            client_socket.send(header.encode('utf-8'))\n",
    "    except Exception as e :\n",
    "        print(e)   \n",
    "        \n",
    "    client_socket.close()"
   ]
  },
  {
   "cell_type": "code",
   "execution_count": null,
   "metadata": {},
   "outputs": [],
   "source": [
    "output = subprocess.check_output(['python.exe', 'test.py'])\n",
    "print(type(output))\n",
    "print(output)\n",
    "# print(type(output.decode()))\n",
    "print(output.decode())\n",
    "print(output.decode('cp949'))"
   ]
  },
  {
   "cell_type": "code",
   "execution_count": 2,
   "metadata": {},
   "outputs": [
    {
     "data": {
      "text/plain": [
       "2147483648"
      ]
     },
     "execution_count": 2,
     "metadata": {},
     "output_type": "execute_result"
    }
   ],
   "source": []
  }
 ],
 "metadata": {
  "kernelspec": {
   "display_name": "Python 3",
   "language": "python",
   "name": "python3"
  },
  "language_info": {
   "codemirror_mode": {
    "name": "ipython",
    "version": 3
   },
   "file_extension": ".py",
   "mimetype": "text/x-python",
   "name": "python",
   "nbconvert_exporter": "python",
   "pygments_lexer": "ipython3",
   "version": "3.7.4"
  }
 },
 "nbformat": 4,
 "nbformat_minor": 4
}
