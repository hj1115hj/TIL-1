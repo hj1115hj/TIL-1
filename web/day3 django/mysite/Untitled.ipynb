{
 "cells": [
  {
   "cell_type": "code",
   "execution_count": 42,
   "metadata": {
    "ExecuteTime": {
     "end_time": "2020-02-18T04:35:01.560463Z",
     "start_time": "2020-02-18T04:35:01.557517Z"
    }
   },
   "outputs": [],
   "source": [
    "from blog.models import Post\n",
    "from django.contrib.auth.models import User\n",
    "import os"
   ]
  },
  {
   "cell_type": "code",
   "execution_count": 43,
   "metadata": {
    "ExecuteTime": {
     "end_time": "2020-02-18T04:35:02.045101Z",
     "start_time": "2020-02-18T04:35:02.029984Z"
    }
   },
   "outputs": [],
   "source": [
    "os.environ[\"DJANGO_ALLOW_ASYNC_UNSAFE\"] = \"true\""
   ]
  },
  {
   "cell_type": "code",
   "execution_count": 44,
   "metadata": {
    "ExecuteTime": {
     "end_time": "2020-02-18T04:35:02.263626Z",
     "start_time": "2020-02-18T04:35:02.259636Z"
    }
   },
   "outputs": [],
   "source": [
    "p = Post(title='오늘 점심 메뉴', text='뭐먹지?')"
   ]
  },
  {
   "cell_type": "code",
   "execution_count": 45,
   "metadata": {
    "ExecuteTime": {
     "end_time": "2020-02-18T04:35:02.479771Z",
     "start_time": "2020-02-18T04:35:02.475781Z"
    }
   },
   "outputs": [],
   "source": [
    "u=User.objects.all()"
   ]
  },
  {
   "cell_type": "code",
   "execution_count": 46,
   "metadata": {
    "ExecuteTime": {
     "end_time": "2020-02-18T04:35:02.697855Z",
     "start_time": "2020-02-18T04:35:02.691871Z"
    }
   },
   "outputs": [
    {
     "data": {
      "text/plain": [
       "<User: lee>"
      ]
     },
     "execution_count": 46,
     "metadata": {},
     "output_type": "execute_result"
    }
   ],
   "source": [
    "u.get(username='lee')"
   ]
  },
  {
   "cell_type": "code",
   "execution_count": 47,
   "metadata": {
    "ExecuteTime": {
     "end_time": "2020-02-18T04:35:02.950741Z",
     "start_time": "2020-02-18T04:35:02.946751Z"
    }
   },
   "outputs": [],
   "source": [
    "p1=Post.objects.all().get(id=1)"
   ]
  },
  {
   "cell_type": "code",
   "execution_count": 48,
   "metadata": {
    "ExecuteTime": {
     "end_time": "2020-02-18T04:36:16.136324Z",
     "start_time": "2020-02-18T04:36:16.131386Z"
    }
   },
   "outputs": [],
   "source": [
    "from django.contrib.auth import authenticate"
   ]
  },
  {
   "cell_type": "code",
   "execution_count": 58,
   "metadata": {
    "ExecuteTime": {
     "end_time": "2020-02-18T04:44:07.670959Z",
     "start_time": "2020-02-18T04:44:07.546692Z"
    }
   },
   "outputs": [],
   "source": [
    "user = authenticate(username='admin', password=1234)"
   ]
  },
  {
   "cell_type": "code",
   "execution_count": 59,
   "metadata": {
    "ExecuteTime": {
     "end_time": "2020-02-18T04:44:07.709925Z",
     "start_time": "2020-02-18T04:44:07.705936Z"
    }
   },
   "outputs": [
    {
     "data": {
      "text/plain": [
       "<User: admin>"
      ]
     },
     "execution_count": 59,
     "metadata": {},
     "output_type": "execute_result"
    }
   ],
   "source": [
    "user"
   ]
  },
  {
   "cell_type": "code",
   "execution_count": null,
   "metadata": {},
   "outputs": [],
   "source": []
  }
 ],
 "metadata": {
  "kernelspec": {
   "display_name": "Django Shell-Plus",
   "language": "python",
   "name": "django_extensions"
  },
  "language_info": {
   "codemirror_mode": {
    "name": "ipython",
    "version": 3
   },
   "file_extension": ".py",
   "mimetype": "text/x-python",
   "name": "python",
   "nbconvert_exporter": "python",
   "pygments_lexer": "ipython3",
   "version": "3.6.10"
  },
  "varInspector": {
   "cols": {
    "lenName": 16,
    "lenType": 16,
    "lenVar": 40
   },
   "kernels_config": {
    "python": {
     "delete_cmd_postfix": "",
     "delete_cmd_prefix": "del ",
     "library": "var_list.py",
     "varRefreshCmd": "print(var_dic_list())"
    },
    "r": {
     "delete_cmd_postfix": ") ",
     "delete_cmd_prefix": "rm(",
     "library": "var_list.r",
     "varRefreshCmd": "cat(var_dic_list()) "
    }
   },
   "types_to_exclude": [
    "module",
    "function",
    "builtin_function_or_method",
    "instance",
    "_Feature"
   ],
   "window_display": false
  }
 },
 "nbformat": 4,
 "nbformat_minor": 4
}
