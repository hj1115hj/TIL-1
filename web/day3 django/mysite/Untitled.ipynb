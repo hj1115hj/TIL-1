{
 "cells": [
  {
   "cell_type": "code",
   "execution_count": 36,
   "metadata": {
    "ExecuteTime": {
     "end_time": "2020-02-21T06:02:03.930131Z",
     "start_time": "2020-02-21T06:02:03.924083Z"
    }
   },
   "outputs": [],
   "source": [
    "from myboard.models import Board\n",
    "from django.shortcuts import render\n",
    "from django.contrib.auth.models import User\n",
    "import os\n",
    "from django.contrib.auth import authenticate\n",
    "from django.db import connection \n",
    "from myboard import models\n",
    "from django.test import RequestFactory"
   ]
  },
  {
   "cell_type": "code",
   "execution_count": 2,
   "metadata": {
    "ExecuteTime": {
     "end_time": "2020-02-21T04:28:23.552928Z",
     "start_time": "2020-02-21T04:28:23.547940Z"
    }
   },
   "outputs": [],
   "source": [
    "os.environ[\"DJANGO_ALLOW_ASYNC_UNSAFE\"] = \"true\""
   ]
  },
  {
   "cell_type": "code",
   "execution_count": 3,
   "metadata": {
    "ExecuteTime": {
     "end_time": "2020-02-21T04:28:23.558911Z",
     "start_time": "2020-02-21T04:28:23.554922Z"
    }
   },
   "outputs": [],
   "source": [
    "p = Post(title='오늘 점심 메뉴', text='뭐먹지?')"
   ]
  },
  {
   "cell_type": "code",
   "execution_count": 4,
   "metadata": {
    "ExecuteTime": {
     "end_time": "2020-02-21T04:28:23.563898Z",
     "start_time": "2020-02-21T04:28:23.559910Z"
    }
   },
   "outputs": [],
   "source": [
    "u=User.objects.all()"
   ]
  },
  {
   "cell_type": "code",
   "execution_count": 5,
   "metadata": {
    "ExecuteTime": {
     "end_time": "2020-02-21T04:28:23.575931Z",
     "start_time": "2020-02-21T04:28:23.564895Z"
    }
   },
   "outputs": [
    {
     "data": {
      "text/plain": [
       "<User: lee>"
      ]
     },
     "execution_count": 5,
     "metadata": {},
     "output_type": "execute_result"
    }
   ],
   "source": [
    "u.get(username='lee')"
   ]
  },
  {
   "cell_type": "code",
   "execution_count": 6,
   "metadata": {
    "ExecuteTime": {
     "end_time": "2020-02-21T04:28:23.580853Z",
     "start_time": "2020-02-21T04:28:23.577015Z"
    }
   },
   "outputs": [],
   "source": [
    "p1=Post.objects.all().get(id=1)"
   ]
  },
  {
   "cell_type": "code",
   "execution_count": 7,
   "metadata": {
    "ExecuteTime": {
     "end_time": "2020-02-21T04:28:23.585921Z",
     "start_time": "2020-02-21T04:28:23.581850Z"
    }
   },
   "outputs": [],
   "source": [
    "from django.contrib.auth import authenticate"
   ]
  },
  {
   "cell_type": "code",
   "execution_count": 8,
   "metadata": {
    "ExecuteTime": {
     "end_time": "2020-02-21T04:28:23.641156Z",
     "start_time": "2020-02-21T04:28:23.587834Z"
    }
   },
   "outputs": [],
   "source": [
    "user = authenticate(username='admin', password=1234)"
   ]
  },
  {
   "cell_type": "code",
   "execution_count": 9,
   "metadata": {
    "ExecuteTime": {
     "end_time": "2020-02-21T04:28:23.645885Z",
     "start_time": "2020-02-21T04:28:23.641838Z"
    }
   },
   "outputs": [
    {
     "data": {
      "text/plain": [
       "<User: admin>"
      ]
     },
     "execution_count": 9,
     "metadata": {},
     "output_type": "execute_result"
    }
   ],
   "source": [
    "user"
   ]
  },
  {
   "cell_type": "code",
   "execution_count": 10,
   "metadata": {
    "ExecuteTime": {
     "end_time": "2020-02-21T04:28:23.654805Z",
     "start_time": "2020-02-21T04:28:23.646826Z"
    }
   },
   "outputs": [
    {
     "data": {
      "text/plain": [
       "<User: admin>"
      ]
     },
     "execution_count": 10,
     "metadata": {},
     "output_type": "execute_result"
    }
   ],
   "source": [
    "User.objects.get(username='admin')"
   ]
  },
  {
   "cell_type": "code",
   "execution_count": 11,
   "metadata": {
    "ExecuteTime": {
     "end_time": "2020-02-21T04:28:23.659816Z",
     "start_time": "2020-02-21T04:28:23.655803Z"
    }
   },
   "outputs": [
    {
     "data": {
      "text/plain": [
       "<QuerySet [<Board: 12345>, <Board: 574357>, <Board: aregergserg>, <Board: ㅁㄱㅎㅁㄴㄷㄱㅎㄴ>, <Board: ㅇㅎㅁㄴㄱㅀㄴ>]>"
      ]
     },
     "execution_count": 11,
     "metadata": {},
     "output_type": "execute_result"
    }
   ],
   "source": [
    "Board.objects.all()"
   ]
  },
  {
   "cell_type": "code",
   "execution_count": 12,
   "metadata": {
    "ExecuteTime": {
     "end_time": "2020-02-21T04:28:23.664851Z",
     "start_time": "2020-02-21T04:28:23.660789Z"
    }
   },
   "outputs": [],
   "source": [
    "Board.objects.distinct('title')"
   ]
  },
  {
   "cell_type": "code",
   "execution_count": 3,
   "metadata": {
    "ExecuteTime": {
     "end_time": "2020-02-21T05:16:53.471651Z",
     "start_time": "2020-02-21T05:16:53.467672Z"
    }
   },
   "outputs": [],
   "source": [
    "from django.db import connection \n",
    "from django.contrib.auth.models import User\n",
    "from myboard import models"
   ]
  },
  {
   "cell_type": "code",
   "execution_count": 14,
   "metadata": {
    "ExecuteTime": {
     "end_time": "2020-02-21T04:28:23.882896Z",
     "start_time": "2020-02-21T04:28:23.670763Z"
    }
   },
   "outputs": [],
   "source": [
    "from django.test import RequestFactory\n",
    "rf =  RequestFactory()\n",
    "url = '/common?page=1'\n",
    "my_request = rf.get(url)"
   ]
  },
  {
   "cell_type": "code",
   "execution_count": 15,
   "metadata": {
    "ExecuteTime": {
     "end_time": "2020-02-21T04:28:23.887537Z",
     "start_time": "2020-02-21T04:28:23.883546Z"
    }
   },
   "outputs": [
    {
     "name": "stdout",
     "output_type": "stream",
     "text": [
      "[(44, '12345', 3), (45, '574357', 3), (46, 'aregergserg', 0), (47, 'ㅁㄱㅎㅁㄴㄷㄱㅎㄴ', 0), (48, 'ㅇㅎㅁㄴㄱㅀㄴ', 0)]\n"
     ]
    }
   ],
   "source": [
    "cursor = connection.cursor()\n",
    "cursor.execute('SELECT id, title, cnt from myboard_board')\n",
    "results = cursor.fetchall()\n",
    "\n",
    "print(results)"
   ]
  },
  {
   "cell_type": "code",
   "execution_count": 16,
   "metadata": {
    "ExecuteTime": {
     "end_time": "2020-02-21T04:28:23.893524Z",
     "start_time": "2020-02-21T04:28:23.888535Z"
    }
   },
   "outputs": [],
   "source": [
    "def dictfetchall(cursor):    \n",
    "    desc = cursor.description\n",
    "    return [\n",
    "        dict(zip([col[0] for col in desc], row))\n",
    "        for row in cursor.fetchall()\n",
    "    ]"
   ]
  },
  {
   "cell_type": "code",
   "execution_count": 17,
   "metadata": {
    "ExecuteTime": {
     "end_time": "2020-02-21T04:28:23.957350Z",
     "start_time": "2020-02-21T04:28:23.894518Z"
    }
   },
   "outputs": [
    {
     "ename": "IndexError",
     "evalue": "list index out of range",
     "output_type": "error",
     "traceback": [
      "\u001b[1;31m---------------------------------------------------------------------------\u001b[0m",
      "\u001b[1;31mIndexError\u001b[0m                                Traceback (most recent call last)",
      "\u001b[1;32m<ipython-input-17-993deb803453>\u001b[0m in \u001b[0;36m<module>\u001b[1;34m\u001b[0m\n\u001b[0;32m      1\u001b[0m \u001b[0md\u001b[0m \u001b[1;33m=\u001b[0m \u001b[0mdictfetchall\u001b[0m\u001b[1;33m(\u001b[0m\u001b[0mcursor\u001b[0m\u001b[1;33m)\u001b[0m\u001b[1;33m\u001b[0m\u001b[1;33m\u001b[0m\u001b[0m\n\u001b[1;32m----> 2\u001b[1;33m \u001b[0mprint\u001b[0m\u001b[1;33m(\u001b[0m\u001b[0md\u001b[0m\u001b[1;33m[\u001b[0m\u001b[1;36m0\u001b[0m\u001b[1;33m]\u001b[0m\u001b[1;33m[\u001b[0m\u001b[1;34m\"title\"\u001b[0m\u001b[1;33m]\u001b[0m\u001b[1;33m)\u001b[0m\u001b[1;33m\u001b[0m\u001b[1;33m\u001b[0m\u001b[0m\n\u001b[0m",
      "\u001b[1;31mIndexError\u001b[0m: list index out of range"
     ]
    }
   ],
   "source": [
    "d = dictfetchall(cursor)\n",
    "print(d[0][\"title\"])"
   ]
  },
  {
   "cell_type": "code",
   "execution_count": 18,
   "metadata": {
    "ExecuteTime": {
     "end_time": "2020-02-21T04:28:32.601504Z",
     "start_time": "2020-02-21T04:28:32.597515Z"
    }
   },
   "outputs": [],
   "source": [
    "z=[]\n",
    "for r in results :\n",
    "    z.append(dict(zip(['id','title','cnt'],r)))"
   ]
  },
  {
   "cell_type": "code",
   "execution_count": 19,
   "metadata": {
    "ExecuteTime": {
     "end_time": "2020-02-21T04:28:32.832057Z",
     "start_time": "2020-02-21T04:28:32.827040Z"
    }
   },
   "outputs": [
    {
     "data": {
      "text/plain": [
       "[{'id': 44, 'title': '12345', 'cnt': 3},\n",
       " {'id': 45, 'title': '574357', 'cnt': 3},\n",
       " {'id': 46, 'title': 'aregergserg', 'cnt': 0},\n",
       " {'id': 47, 'title': 'ㅁㄱㅎㅁㄴㄷㄱㅎㄴ', 'cnt': 0},\n",
       " {'id': 48, 'title': 'ㅇㅎㅁㄴㄱㅀㄴ', 'cnt': 0}]"
      ]
     },
     "execution_count": 19,
     "metadata": {},
     "output_type": "execute_result"
    }
   ],
   "source": [
    "z"
   ]
  },
  {
   "cell_type": "code",
   "execution_count": 20,
   "metadata": {
    "ExecuteTime": {
     "end_time": "2020-02-21T04:28:33.272148Z",
     "start_time": "2020-02-21T04:28:33.268095Z"
    }
   },
   "outputs": [
    {
     "data": {
      "text/plain": [
       "(('id', None, None, None, None, None, None),\n",
       " ('title', None, None, None, None, None, None),\n",
       " ('cnt', None, None, None, None, None, None))"
      ]
     },
     "execution_count": 20,
     "metadata": {},
     "output_type": "execute_result"
    }
   ],
   "source": [
    "cursor.description"
   ]
  },
  {
   "cell_type": "code",
   "execution_count": 21,
   "metadata": {
    "ExecuteTime": {
     "end_time": "2020-02-21T04:28:33.606487Z",
     "start_time": "2020-02-21T04:28:33.602563Z"
    }
   },
   "outputs": [],
   "source": [
    "z=zip(['id','title','cnt'],results[0])"
   ]
  },
  {
   "cell_type": "code",
   "execution_count": 22,
   "metadata": {
    "ExecuteTime": {
     "end_time": "2020-02-21T04:28:33.813583Z",
     "start_time": "2020-02-21T04:28:33.810544Z"
    },
    "scrolled": true
   },
   "outputs": [
    {
     "name": "stdout",
     "output_type": "stream",
     "text": [
      "('id', 44)\n",
      "('title', '12345')\n",
      "('cnt', 3)\n"
     ]
    }
   ],
   "source": [
    "for v in z:\n",
    "    print(v)"
   ]
  },
  {
   "cell_type": "code",
   "execution_count": 23,
   "metadata": {
    "ExecuteTime": {
     "end_time": "2020-02-21T04:28:35.439496Z",
     "start_time": "2020-02-21T04:28:35.435507Z"
    }
   },
   "outputs": [],
   "source": [
    "cursor = connection.cursor()\n",
    "cursor.execute('SELECT id, title, cnt from myboard_board')\n",
    "results = cursor.fetchall()"
   ]
  },
  {
   "cell_type": "code",
   "execution_count": 24,
   "metadata": {
    "ExecuteTime": {
     "end_time": "2020-02-21T04:28:35.790295Z",
     "start_time": "2020-02-21T04:28:35.786370Z"
    }
   },
   "outputs": [],
   "source": [
    "z=[]\n",
    "for r in results :\n",
    "    z.append(dict(zip(['id','title','cnt'],r)))"
   ]
  },
  {
   "cell_type": "code",
   "execution_count": 25,
   "metadata": {
    "ExecuteTime": {
     "end_time": "2020-02-21T04:28:36.128124Z",
     "start_time": "2020-02-21T04:28:36.124107Z"
    }
   },
   "outputs": [
    {
     "data": {
      "text/plain": [
       "[{'id': 44, 'title': '12345', 'cnt': 3},\n",
       " {'id': 45, 'title': '574357', 'cnt': 3},\n",
       " {'id': 46, 'title': 'aregergserg', 'cnt': 0},\n",
       " {'id': 47, 'title': 'ㅁㄱㅎㅁㄴㄷㄱㅎㄴ', 'cnt': 0},\n",
       " {'id': 48, 'title': 'ㅇㅎㅁㄴㄱㅀㄴ', 'cnt': 0}]"
      ]
     },
     "execution_count": 25,
     "metadata": {},
     "output_type": "execute_result"
    }
   ],
   "source": [
    "z"
   ]
  },
  {
   "cell_type": "code",
   "execution_count": 26,
   "metadata": {
    "ExecuteTime": {
     "end_time": "2020-02-21T04:28:36.495165Z",
     "start_time": "2020-02-21T04:28:36.491175Z"
    }
   },
   "outputs": [
    {
     "name": "stdout",
     "output_type": "stream",
     "text": [
      "<WSGIRequest: GET '/common?page=1'>\n"
     ]
    }
   ],
   "source": [
    "from django.test import RequestFactory\n",
    "rf =  RequestFactory()\n",
    "url = '/common?page=1'\n",
    "my_request = rf.get(url)\n",
    "print(my_request)"
   ]
  },
  {
   "cell_type": "code",
   "execution_count": 24,
   "metadata": {
    "ExecuteTime": {
     "end_time": "2020-02-21T05:56:39.655301Z",
     "start_time": "2020-02-21T05:56:39.639799Z"
    }
   },
   "outputs": [],
   "source": [
    "sql = \"SELECT id, title, cnt from myboard_board where category='common'\""
   ]
  },
  {
   "cell_type": "code",
   "execution_count": 23,
   "metadata": {
    "ExecuteTime": {
     "end_time": "2020-02-21T05:56:37.184222Z",
     "start_time": "2020-02-21T05:56:37.181254Z"
    }
   },
   "outputs": [],
   "source": [
    "sql=sql.replace('dd', 'common')"
   ]
  },
  {
   "cell_type": "code",
   "execution_count": 29,
   "metadata": {
    "ExecuteTime": {
     "end_time": "2020-02-21T04:28:37.697228Z",
     "start_time": "2020-02-21T04:28:37.691258Z"
    }
   },
   "outputs": [
    {
     "data": {
      "text/plain": [
       "<django.db.backends.sqlite3.base.SQLiteCursorWrapper at 0x26f53d5bca8>"
      ]
     },
     "execution_count": 29,
     "metadata": {},
     "output_type": "execute_result"
    }
   ],
   "source": [
    "cursor.execute(sql)"
   ]
  },
  {
   "cell_type": "code",
   "execution_count": null,
   "metadata": {
    "ExecuteTime": {
     "end_time": "2020-02-21T05:56:44.496225Z",
     "start_time": "2020-02-21T05:56:44.484395Z"
    }
   },
   "outputs": [],
   "source": [
    "cursor = connection.cursor()\n",
    "sql = \"SELECT id, title, cnt from myboard_board where category='common'\"\n",
    "cursor.execute(sql)\n",
    "results = cursor.fetchall()"
   ]
  },
  {
   "cell_type": "code",
   "execution_count": 27,
   "metadata": {
    "ExecuteTime": {
     "end_time": "2020-02-21T05:57:07.264725Z",
     "start_time": "2020-02-21T05:57:07.260684Z"
    }
   },
   "outputs": [],
   "source": [
    "def dictfetchall(fetchall):\n",
    "    datas=[]\n",
    "    for r in fetchall :\n",
    "        datas.append(dict(zip(['id','title','cnt'],r)))\n",
    "    print(datas)"
   ]
  },
  {
   "cell_type": "code",
   "execution_count": 26,
   "metadata": {
    "ExecuteTime": {
     "end_time": "2020-02-21T05:56:46.936168Z",
     "start_time": "2020-02-21T05:56:46.932173Z"
    }
   },
   "outputs": [
    {
     "name": "stdout",
     "output_type": "stream",
     "text": [
      "[]\n"
     ]
    }
   ],
   "source": [
    "dictfetchall(cursor.fetchall())\n"
   ]
  },
  {
   "cell_type": "code",
   "execution_count": 33,
   "metadata": {
    "ExecuteTime": {
     "end_time": "2020-02-21T04:33:12.921534Z",
     "start_time": "2020-02-21T04:33:12.915550Z"
    }
   },
   "outputs": [],
   "source": [
    "def listpage(request, category):\n",
    "    username = request.session.get(\"username\",\"\")\n",
    "    page = int(request.GET.get(\"page\", 1))\n",
    "    \n",
    "    cursor = connection.cursor()\n",
    "    sql = \"SELECT id, title, cnt from myboard_board where category='common'\"\n",
    "    cursor.execute(sql)\n",
    "    results = cursor.fetchall()\n",
    "\n",
    "    datas=[]\n",
    "    for r in results :\n",
    "        datas.append(dict(zip(['id','title','cnt'],r)))\n",
    "\n",
    "    subs = datas[(page-1)*3:(page*3)]\n",
    "    print(subs)\n",
    "\n",
    "    context = {\"datas\":subs, 'username':username}\n",
    "    return render(request, 'myboard/test.html', context)"
   ]
  },
  {
   "cell_type": "code",
   "execution_count": 34,
   "metadata": {
    "ExecuteTime": {
     "end_time": "2020-02-21T04:35:06.332440Z",
     "start_time": "2020-02-21T04:35:06.324503Z"
    }
   },
   "outputs": [
    {
     "ename": "NameError",
     "evalue": "name 'context' is not defined",
     "output_type": "error",
     "traceback": [
      "\u001b[1;31m---------------------------------------------------------------------------\u001b[0m",
      "\u001b[1;31mNameError\u001b[0m                                 Traceback (most recent call last)",
      "\u001b[1;32m<ipython-input-34-0d47c9c508f4>\u001b[0m in \u001b[0;36m<module>\u001b[1;34m\u001b[0m\n\u001b[1;32m----> 1\u001b[1;33m \u001b[0mcontext\u001b[0m\u001b[1;33m.\u001b[0m\u001b[0mdecode\u001b[0m\u001b[1;33m(\u001b[0m\u001b[1;33m)\u001b[0m\u001b[1;33m\u001b[0m\u001b[1;33m\u001b[0m\u001b[0m\n\u001b[0m",
      "\u001b[1;31mNameError\u001b[0m: name 'context' is not defined"
     ]
    }
   ],
   "source": [
    "context.decode()"
   ]
  },
  {
   "cell_type": "markdown",
   "metadata": {},
   "source": [
    "## ---"
   ]
  },
  {
   "cell_type": "code",
   "execution_count": null,
   "metadata": {
    "ExecuteTime": {
     "end_time": "2020-02-21T05:57:27.348823Z",
     "start_time": "2020-02-21T05:57:27.324760Z"
    }
   },
   "outputs": [],
   "source": [
    "sql = \"\"\"CREATE TABLE myboard_image\n",
    "(\n",
    "id INTEGER PRIMARY KEY AUTOINCREMENT, author_id INTEGER NOT NULL,\n",
    "filename VARCHAR(50) NOT NULL,\n",
    "FOREIGN KEY (author_id) REFERENCES auth_user(id)\n",
    ")\n",
    "\"\"\"\n",
    "\n",
    "cursor = connection.cursor()\n",
    "cursor.execute(sql)"
   ]
  },
  {
   "cell_type": "code",
   "execution_count": 30,
   "metadata": {
    "ExecuteTime": {
     "end_time": "2020-02-21T05:57:53.164594Z",
     "start_time": "2020-02-21T05:57:53.149805Z"
    }
   },
   "outputs": [
    {
     "name": "stdout",
     "output_type": "stream",
     "text": [
      "1\n"
     ]
    }
   ],
   "source": [
    "username = 'admin'\n",
    "\n",
    "sql = f\"select id from auth_user where username='{username}'\"\n",
    "\n",
    "cursor.execute(sql)\n",
    "\n",
    "\n",
    "author_id = cursor.fetchone()[0]\n",
    "print(author_id)\n",
    "\n",
    "filename = 'face01.jpg'\n",
    "\n",
    "\n",
    "sql = f\"\"\"\n",
    "INSERT INTO \"main\".\"myboard_image\"\n",
    "(\"author_id\", \"filename\")\n",
    "VALUES ({author_id}, '{filename}');\n",
    "\"\"\""
   ]
  },
  {
   "cell_type": "code",
   "execution_count": 11,
   "metadata": {
    "ExecuteTime": {
     "end_time": "2020-02-21T05:30:05.674689Z",
     "start_time": "2020-02-21T05:30:05.663636Z"
    }
   },
   "outputs": [],
   "source": [
    "v=cursor.execute(sql)"
   ]
  },
  {
   "cell_type": "code",
   "execution_count": 84,
   "metadata": {
    "ExecuteTime": {
     "end_time": "2020-02-21T06:20:46.606171Z",
     "start_time": "2020-02-21T06:20:46.602222Z"
    }
   },
   "outputs": [
    {
     "name": "stdout",
     "output_type": "stream",
     "text": [
      "\n",
      "select filename\n",
      "from myboard_Image\n",
      "where author_id=(select id from auth_user where username='admin')\n",
      "\n"
     ]
    }
   ],
   "source": [
    "sql = f\"\"\"\n",
    "select filename\n",
    "from myboard_Image\n",
    "where author_id=(select id from auth_user where username='{username}')\n",
    "\"\"\"\n",
    "print(sql)"
   ]
  },
  {
   "cell_type": "code",
   "execution_count": 96,
   "metadata": {
    "ExecuteTime": {
     "end_time": "2020-02-21T06:22:28.670763Z",
     "start_time": "2020-02-21T06:22:28.665806Z"
    }
   },
   "outputs": [
    {
     "name": "stdout",
     "output_type": "stream",
     "text": [
      "[('s1.jpg',), ('s2.jpg',), ('s3.jpg',), ('s4.jpg',), ('s5.jpg',)]\n"
     ]
    }
   ],
   "source": [
    "cursor = connection.cursor()\n",
    "cursor.execute(sql)\n",
    "result = cursor.fetchall()\n",
    "print(result)"
   ]
  },
  {
   "cell_type": "code",
   "execution_count": 97,
   "metadata": {
    "ExecuteTime": {
     "end_time": "2020-02-21T06:22:29.118373Z",
     "start_time": "2020-02-21T06:22:29.113387Z"
    }
   },
   "outputs": [],
   "source": [
    "def dictfetchall(fetchall):\n",
    "    datas=[]\n",
    "    for r in fetchall :\n",
    "        datas.append(dict(zip(['filename'],r)))\n",
    "    data={'datas':datas}\n",
    "    return data"
   ]
  },
  {
   "cell_type": "code",
   "execution_count": 98,
   "metadata": {
    "ExecuteTime": {
     "end_time": "2020-02-21T06:22:29.438357Z",
     "start_time": "2020-02-21T06:22:29.434318Z"
    }
   },
   "outputs": [],
   "source": [
    "data=dictfetchall(result)"
   ]
  },
  {
   "cell_type": "code",
   "execution_count": 99,
   "metadata": {
    "ExecuteTime": {
     "end_time": "2020-02-21T06:22:29.852617Z",
     "start_time": "2020-02-21T06:22:29.848628Z"
    }
   },
   "outputs": [
    {
     "data": {
      "text/plain": [
       "{'datas': [{'filename': 's1.jpg'},\n",
       "  {'filename': 's2.jpg'},\n",
       "  {'filename': 's3.jpg'},\n",
       "  {'filename': 's4.jpg'},\n",
       "  {'filename': 's5.jpg'}]}"
      ]
     },
     "execution_count": 99,
     "metadata": {},
     "output_type": "execute_result"
    }
   ],
   "source": [
    "data"
   ]
  },
  {
   "cell_type": "code",
   "execution_count": 100,
   "metadata": {
    "ExecuteTime": {
     "end_time": "2020-02-21T06:22:31.104571Z",
     "start_time": "2020-02-21T06:22:31.089082Z"
    }
   },
   "outputs": [],
   "source": [
    "rf =  RequestFactory()\n",
    "url = '/common?page=1'\n",
    "request = rf.get(url)"
   ]
  },
  {
   "cell_type": "code",
   "execution_count": 103,
   "metadata": {
    "ExecuteTime": {
     "end_time": "2020-02-21T06:23:17.503518Z",
     "start_time": "2020-02-21T06:23:17.498483Z"
    }
   },
   "outputs": [],
   "source": [
    "response = render(request, 'myboard/photolist.html', data)"
   ]
  },
  {
   "cell_type": "code",
   "execution_count": 104,
   "metadata": {
    "ExecuteTime": {
     "end_time": "2020-02-21T06:23:17.724413Z",
     "start_time": "2020-02-21T06:23:17.720423Z"
    },
    "scrolled": true
   },
   "outputs": [
    {
     "name": "stdout",
     "output_type": "stream",
     "text": [
      "<br>\n",
      "\n",
      "<form action=upload enctype=\"multipart/form-data\" method=post>\n",
      "    <input type='hidden' name='csrfmiddlewaretoken' value='tlC2te42TXXiXtsOoKx1yFtiF6YCzlsa825HsHq86NGii90CZjlRajWuDEt7UDCl' />\n",
      "    <input type ='file' name='filename'/>\n",
      "    <input type=submit value=사진등록>\n",
      "    <input type =hidden name=username value=''>\n",
      "</form>\n",
      "\n",
      "\n",
      "\n",
      "<img src=\"C:\\TIL\\web\\day3 django\\mysite\\static\\faces\\song\\s1.jpg\" width=100><br>\n",
      "\n",
      "\n",
      "\n",
      "<img src=\"C:\\TIL\\web\\day3 django\\mysite\\static\\faces\\song\\s2.jpg\" width=100><br>\n",
      "\n",
      "\n",
      "\n",
      "<img src=\"C:\\TIL\\web\\day3 django\\mysite\\static\\faces\\song\\s3.jpg\" width=100><br>\n",
      "\n",
      "\n",
      "\n",
      "<img src=\"C:\\TIL\\web\\day3 django\\mysite\\static\\faces\\song\\s4.jpg\" width=100><br>\n",
      "\n",
      "\n",
      "\n",
      "<img src=\"C:\\TIL\\web\\day3 django\\mysite\\static\\faces\\song\\s5.jpg\" width=100><br>\n",
      "\n",
      "\n"
     ]
    }
   ],
   "source": [
    "print(response.content.decode())"
   ]
  },
  {
   "cell_type": "code",
   "execution_count": 106,
   "metadata": {
    "ExecuteTime": {
     "end_time": "2020-02-21T06:32:40.181953Z",
     "start_time": "2020-02-21T06:32:40.177025Z"
    }
   },
   "outputs": [],
   "source": [
    "def photolist(request):\n",
    "    sql = f\"\"\"\n",
    "    select filename\n",
    "    from myboard_Image\n",
    "    where author_id=(select id from auth_user where username='{username}')\n",
    "    \"\"\"\n",
    "    print(sql)\n",
    "\n",
    "    cursor = connection.cursor()\n",
    "    cursor.execute(sql)\n",
    "    result = cursor.fetchall()\n",
    "    print(result)\n",
    "\n",
    "    context=dictfetchall(result)\n",
    "\n",
    "    return render(request, 'myboard/photolist.html', context)"
   ]
  },
  {
   "cell_type": "markdown",
   "metadata": {
    "ExecuteTime": {
     "end_time": "2020-02-21T06:23:42.629661Z",
     "start_time": "2020-02-21T06:23:42.625673Z"
    }
   },
   "source": [
    "---\n",
    "업로드 테스트"
   ]
  },
  {
   "cell_type": "code",
   "execution_count": 115,
   "metadata": {
    "ExecuteTime": {
     "end_time": "2020-02-21T07:44:44.353702Z",
     "start_time": "2020-02-21T07:44:44.348715Z"
    }
   },
   "outputs": [],
   "source": [
    "from django.core.files.uploadedfile import SimpleUploadedFile\n",
    "\n",
    "f=open('static/people.jpg', 'rb')\n",
    "\n",
    "file_upload = SimpleUploadedFile('dog2.jpg', f.read(), content_type='image/jpeg')\n",
    "\n",
    "data = {'filename':file_upload, 'username':'admin'}\n",
    "\n",
    "request = rf.post('/myboard/upload', data=data, format='multipart')"
   ]
  },
  {
   "cell_type": "code",
   "execution_count": 116,
   "metadata": {
    "ExecuteTime": {
     "end_time": "2020-02-21T07:44:45.219079Z",
     "start_time": "2020-02-21T07:44:45.215972Z"
    }
   },
   "outputs": [
    {
     "name": "stdout",
     "output_type": "stream",
     "text": [
      "admin\n"
     ]
    }
   ],
   "source": [
    "username = request.POST['username']\n",
    "print(username)"
   ]
  },
  {
   "cell_type": "code",
   "execution_count": 114,
   "metadata": {
    "ExecuteTime": {
     "end_time": "2020-02-21T06:47:38.387114Z",
     "start_time": "2020-02-21T06:47:38.383106Z"
    }
   },
   "outputs": [
    {
     "name": "stdout",
     "output_type": "stream",
     "text": [
      "dog2.jpg\n"
     ]
    }
   ],
   "source": [
    "file = request.FILES['filename']\n",
    "filename = file._name\n",
    "print(filename)\n",
    "filepath = settings.BASE_DIR + \"/static/\" + username + filename\n",
    "fp = open(filepath, \"wb\")\n",
    "for chunk in file.chunks() :\n",
    "    fp.write(chunk)\n",
    "fp.close()"
   ]
  },
  {
   "cell_type": "code",
   "execution_count": null,
   "metadata": {},
   "outputs": [],
   "source": []
  }
 ],
 "metadata": {
  "kernelspec": {
   "display_name": "Django Shell-Plus",
   "language": "python",
   "name": "django_extensions"
  },
  "language_info": {
   "codemirror_mode": {
    "name": "ipython",
    "version": 3
   },
   "file_extension": ".py",
   "mimetype": "text/x-python",
   "name": "python",
   "nbconvert_exporter": "python",
   "pygments_lexer": "ipython3",
   "version": "3.7.4"
  },
  "varInspector": {
   "cols": {
    "lenName": 16,
    "lenType": 16,
    "lenVar": 40
   },
   "kernels_config": {
    "python": {
     "delete_cmd_postfix": "",
     "delete_cmd_prefix": "del ",
     "library": "var_list.py",
     "varRefreshCmd": "print(var_dic_list())"
    },
    "r": {
     "delete_cmd_postfix": ") ",
     "delete_cmd_prefix": "rm(",
     "library": "var_list.r",
     "varRefreshCmd": "cat(var_dic_list()) "
    }
   },
   "types_to_exclude": [
    "module",
    "function",
    "builtin_function_or_method",
    "instance",
    "_Feature"
   ],
   "window_display": false
  }
 },
 "nbformat": 4,
 "nbformat_minor": 4
}
