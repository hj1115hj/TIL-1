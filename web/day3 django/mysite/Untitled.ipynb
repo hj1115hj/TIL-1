{
 "cells": [
  {
   "cell_type": "code",
   "execution_count": 30,
   "metadata": {},
   "outputs": [],
   "source": [
    "from imutils import face_utils\n",
    "import numpy as np\n",
    "import imutils\n",
    "import dlib\n",
    "import cv2\n",
    "import matplotlib.pyplot as plt\n",
    "import face_recognition\n",
    "import os\n",
    "from imutils import paths\n",
    "import pickle"
   ]
  },
  {
   "cell_type": "code",
   "execution_count": 51,
   "metadata": {},
   "outputs": [],
   "source": [
    "data = pickle.loads(open(\"known.bin\", \"rb\").read())"
   ]
  },
  {
   "cell_type": "code",
   "execution_count": 34,
   "metadata": {},
   "outputs": [],
   "source": [
    "# def faceverification(fimename):\n",
    "image = cv2.imread('obama_test.jpg')\n",
    "\n",
    "boxes = face_recognition.face_locations(image)\n",
    "encodings = face_recognition.face_encodings(image, boxes)\n",
    "\n",
    "#     names = []\n",
    "for encoding in encodings:\n",
    "    matches = face_recognition.compare_faces(data[\"encodings\"], encoding)\n",
    "    name = \"\"\n",
    "    if True in matches:\n",
    "        matchedIdxs = [i for (i, b) in enumerate(matches) if b]\n",
    "        counts = {} \n",
    "        for i in matchedIdxs:\n",
    "            name = data[\"names\"][i]\n",
    "            counts[name] = counts.get(name, 0) + 1  #get : 있으면 값을 반환하여 +1 하고, 없으면(최초) 0+1\n",
    "        name = max(counts, key=counts.get)\n",
    "#         names.append(name)                             \n",
    "#     for ((top, right, bottom, left), name) in zip(boxes, names):\n",
    "#         cv2.rectangle(image, (left, top), (right, bottom), (0, 255, 0), 2)\n",
    "#         y = top - 15 if top - 15 > 15 else top + 15\n",
    "#         cv2.putText(image, name, (left, y), cv2.FONT_HERSHEY_SIMPLEX,  0.75, (0, 255, 0), 2)"
   ]
  },
  {
   "cell_type": "code",
   "execution_count": 52,
   "metadata": {},
   "outputs": [
    {
     "data": {
      "text/plain": [
       "dict_keys(['encodings', 'names'])"
      ]
     },
     "execution_count": 52,
     "metadata": {},
     "output_type": "execute_result"
    }
   ],
   "source": [
    "data.keys()"
   ]
  },
  {
   "cell_type": "code",
   "execution_count": 57,
   "metadata": {},
   "outputs": [
    {
     "data": {
      "text/plain": [
       "['obama',\n",
       " 'obama',\n",
       " 'obama',\n",
       " 'obama',\n",
       " 'obama',\n",
       " 'obama',\n",
       " 'suzy',\n",
       " 'suzy',\n",
       " 'suzy',\n",
       " 'suzy',\n",
       " 'suzy',\n",
       " 'suzy',\n",
       " 'suzy',\n",
       " 'trump',\n",
       " 'trump',\n",
       " 'trump',\n",
       " 'trump',\n",
       " 'trump',\n",
       " 'trump']"
      ]
     },
     "execution_count": 57,
     "metadata": {},
     "output_type": "execute_result"
    }
   ],
   "source": [
    "data['names']"
   ]
  },
  {
   "cell_type": "code",
   "execution_count": null,
   "metadata": {},
   "outputs": [],
   "source": []
  }
 ],
 "metadata": {
  "kernelspec": {
   "display_name": "Python 3",
   "language": "python",
   "name": "python3"
  },
  "language_info": {
   "codemirror_mode": {
    "name": "ipython",
    "version": 3
   },
   "file_extension": ".py",
   "mimetype": "text/x-python",
   "name": "python",
   "nbconvert_exporter": "python",
   "pygments_lexer": "ipython3",
   "version": "3.6.10"
  }
 },
 "nbformat": 4,
 "nbformat_minor": 4
}
