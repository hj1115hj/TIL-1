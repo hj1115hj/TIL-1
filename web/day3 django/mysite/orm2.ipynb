{
 "cells": [
  {
   "cell_type": "code",
   "execution_count": 1,
   "metadata": {
    "ExecuteTime": {
     "end_time": "2020-02-21T02:09:12.673189Z",
     "start_time": "2020-02-21T02:09:12.670198Z"
    }
   },
   "outputs": [],
   "source": [
    "from django.db import connection \n",
    "from django.contrib.auth.models import User\n",
    "from myboard import models"
   ]
  },
  {
   "cell_type": "code",
   "execution_count": 2,
   "metadata": {
    "ExecuteTime": {
     "end_time": "2020-02-21T02:09:14.406951Z",
     "start_time": "2020-02-21T02:09:14.403961Z"
    }
   },
   "outputs": [],
   "source": [
    "data = User.objects.all()"
   ]
  },
  {
   "cell_type": "code",
   "execution_count": 3,
   "metadata": {
    "ExecuteTime": {
     "end_time": "2020-02-21T02:09:14.654042Z",
     "start_time": "2020-02-21T02:09:14.627678Z"
    }
   },
   "outputs": [],
   "source": [
    "models.Board??"
   ]
  },
  {
   "cell_type": "code",
   "execution_count": 4,
   "metadata": {
    "ExecuteTime": {
     "end_time": "2020-02-21T02:12:58.943223Z",
     "start_time": "2020-02-21T02:12:58.935248Z"
    }
   },
   "outputs": [
    {
     "data": {
      "text/plain": [
       "{'sql': 'SELECT \"auth_user\".\"id\", \"auth_user\".\"password\", \"auth_user\".\"last_login\", \"auth_user\".\"is_superuser\", \"auth_user\".\"username\", \"auth_user\".\"first_name\", \"auth_user\".\"last_name\", \"auth_user\".\"email\", \"auth_user\".\"is_staff\", \"auth_user\".\"is_active\", \"auth_user\".\"date_joined\" FROM \"auth_user\" LIMIT 21',\n",
       " 'time': '0.000'}"
      ]
     },
     "execution_count": 4,
     "metadata": {},
     "output_type": "execute_result"
    }
   ],
   "source": [
    "connection.queries[-1]"
   ]
  },
  {
   "cell_type": "code",
   "execution_count": 6,
   "metadata": {
    "ExecuteTime": {
     "end_time": "2020-02-21T02:14:39.681831Z",
     "start_time": "2020-02-21T02:14:39.676818Z"
    }
   },
   "outputs": [
    {
     "data": {
      "text/plain": [
       "<RawQuerySet: SELECT max(age) FROM myapp_user>"
      ]
     },
     "execution_count": 6,
     "metadata": {},
     "output_type": "execute_result"
    }
   ],
   "source": [
    "User.objects.raw('SELECT max(age) FROM myapp_user')"
   ]
  },
  {
   "cell_type": "code",
   "execution_count": 7,
   "metadata": {
    "ExecuteTime": {
     "end_time": "2020-02-21T02:14:50.448728Z",
     "start_time": "2020-02-21T02:14:50.437166Z"
    }
   },
   "outputs": [
    {
     "name": "stdout",
     "output_type": "stream",
     "text": [
      "40\n"
     ]
    }
   ],
   "source": [
    "cursor = connection.cursor()\n",
    "cursor.execute('SELECT max(age) from myapp_user')\n",
    "max_value = cursor.fetchone()[0]\n",
    "\n",
    "print(max_value)"
   ]
  },
  {
   "cell_type": "code",
   "execution_count": 8,
   "metadata": {
    "ExecuteTime": {
     "end_time": "2020-02-21T02:17:41.969560Z",
     "start_time": "2020-02-21T02:17:41.957099Z"
    }
   },
   "outputs": [],
   "source": [
    "cursor = connection.cursor()\n",
    "cursor.execute('SELECT id, title, cnt from myboard_board')\n",
    "results = cursor.fetchall()"
   ]
  },
  {
   "cell_type": "code",
   "execution_count": 9,
   "metadata": {
    "ExecuteTime": {
     "end_time": "2020-02-21T02:17:43.233242Z",
     "start_time": "2020-02-21T02:17:43.229254Z"
    }
   },
   "outputs": [
    {
     "name": "stdout",
     "output_type": "stream",
     "text": [
      "<class 'list'>\n"
     ]
    }
   ],
   "source": [
    "print(type(results))"
   ]
  },
  {
   "cell_type": "code",
   "execution_count": 10,
   "metadata": {
    "ExecuteTime": {
     "end_time": "2020-02-21T02:17:47.888745Z",
     "start_time": "2020-02-21T02:17:47.883759Z"
    }
   },
   "outputs": [
    {
     "data": {
      "text/plain": [
       "(44, '12345', 3)"
      ]
     },
     "execution_count": 10,
     "metadata": {},
     "output_type": "execute_result"
    }
   ],
   "source": [
    "results[0]"
   ]
  },
  {
   "cell_type": "code",
   "execution_count": 11,
   "metadata": {
    "ExecuteTime": {
     "end_time": "2020-02-21T02:17:59.384579Z",
     "start_time": "2020-02-21T02:17:59.380628Z"
    }
   },
   "outputs": [
    {
     "name": "stdout",
     "output_type": "stream",
     "text": [
      "(44, '12345', 3)\n",
      "(45, '574357', 3)\n",
      "(46, 'aregergserg', 0)\n",
      "(47, 'ㅁㄱㅎㅁㄴㄷㄱㅎㄴ', 0)\n",
      "(48, 'ㅇㅎㅁㄴㄱㅀㄴ', 0)\n"
     ]
    }
   ],
   "source": [
    "for r in results :\n",
    "    print(r)"
   ]
  },
  {
   "cell_type": "code",
   "execution_count": 12,
   "metadata": {
    "ExecuteTime": {
     "end_time": "2020-02-21T02:18:16.089786Z",
     "start_time": "2020-02-21T02:18:16.084778Z"
    }
   },
   "outputs": [
    {
     "data": {
      "text/plain": [
       "<django.db.backends.sqlite3.base.SQLiteCursorWrapper at 0x1d0834e6e58>"
      ]
     },
     "execution_count": 12,
     "metadata": {},
     "output_type": "execute_result"
    }
   ],
   "source": [
    "cursor.execute(\"\"\"\n",
    "select b.id, title, cnt, username \n",
    "from myboard_board b , auth_user u\n",
    "where b.author_id = u.id and username = 'home'\n",
    "\"\"\")"
   ]
  },
  {
   "cell_type": "code",
   "execution_count": 13,
   "metadata": {
    "ExecuteTime": {
     "end_time": "2020-02-21T02:18:17.247811Z",
     "start_time": "2020-02-21T02:18:17.244819Z"
    }
   },
   "outputs": [],
   "source": [
    "r = cursor.fetchone()"
   ]
  },
  {
   "cell_type": "code",
   "execution_count": 14,
   "metadata": {
    "ExecuteTime": {
     "end_time": "2020-02-21T02:18:18.847834Z",
     "start_time": "2020-02-21T02:18:18.844820Z"
    }
   },
   "outputs": [
    {
     "name": "stdout",
     "output_type": "stream",
     "text": [
      "None\n"
     ]
    }
   ],
   "source": [
    "print(r)"
   ]
  },
  {
   "cell_type": "code",
   "execution_count": 15,
   "metadata": {
    "ExecuteTime": {
     "end_time": "2020-02-21T02:18:20.473490Z",
     "start_time": "2020-02-21T02:18:20.469501Z"
    }
   },
   "outputs": [
    {
     "name": "stdout",
     "output_type": "stream",
     "text": [
      "None\n"
     ]
    }
   ],
   "source": [
    "r = cursor.fetchone()\n",
    "print(r)"
   ]
  },
  {
   "cell_type": "code",
   "execution_count": 16,
   "metadata": {
    "ExecuteTime": {
     "end_time": "2020-02-21T02:18:21.463738Z",
     "start_time": "2020-02-21T02:18:21.460765Z"
    }
   },
   "outputs": [
    {
     "name": "stdout",
     "output_type": "stream",
     "text": [
      "[]\n"
     ]
    }
   ],
   "source": [
    "r = cursor.fetchall()\n",
    "print(r)\n"
   ]
  },
  {
   "cell_type": "code",
   "execution_count": 17,
   "metadata": {
    "ExecuteTime": {
     "end_time": "2020-02-21T02:18:25.056185Z",
     "start_time": "2020-02-21T02:18:25.052229Z"
    }
   },
   "outputs": [],
   "source": [
    "cursor.execute(\"\"\"\n",
    "select b.id, title, cnt, username \n",
    "from myboard_board b , auth_user u\n",
    "where b.author_id = u.id and username = 'home'\n",
    "\"\"\")\n",
    "result = cursor.fetchall()"
   ]
  },
  {
   "cell_type": "code",
   "execution_count": 18,
   "metadata": {
    "ExecuteTime": {
     "end_time": "2020-02-21T02:18:25.960806Z",
     "start_time": "2020-02-21T02:18:25.956817Z"
    }
   },
   "outputs": [],
   "source": [
    "for r in result :\n",
    "    print(r[1])"
   ]
  },
  {
   "cell_type": "code",
   "execution_count": 31,
   "metadata": {
    "ExecuteTime": {
     "end_time": "2020-02-21T02:46:28.610608Z",
     "start_time": "2020-02-21T02:46:28.605618Z"
    }
   },
   "outputs": [
    {
     "data": {
      "text/plain": [
       "(('id', None, None, None, None, None, None),\n",
       " ('title', None, None, None, None, None, None),\n",
       " ('text', None, None, None, None, None, None),\n",
       " ('created_date', None, None, None, None, None, None),\n",
       " ('cnt', None, None, None, None, None, None),\n",
       " ('category', None, None, None, None, None, None),\n",
       " ('author_id', None, None, None, None, None, None),\n",
       " ('img', None, None, None, None, None, None))"
      ]
     },
     "execution_count": 31,
     "metadata": {},
     "output_type": "execute_result"
    }
   ],
   "source": [
    "cursor.description"
   ]
  },
  {
   "cell_type": "code",
   "execution_count": 20,
   "metadata": {
    "ExecuteTime": {
     "end_time": "2020-02-21T02:19:15.544211Z",
     "start_time": "2020-02-21T02:19:15.540189Z"
    }
   },
   "outputs": [
    {
     "name": "stdout",
     "output_type": "stream",
     "text": [
      "{'a': 1, 'b': 2}\n"
     ]
    }
   ],
   "source": [
    "d = dict(zip(['a', 'b'],  (1,2) ))\n",
    "print(d)"
   ]
  },
  {
   "cell_type": "code",
   "execution_count": 21,
   "metadata": {
    "ExecuteTime": {
     "end_time": "2020-02-21T02:19:16.768668Z",
     "start_time": "2020-02-21T02:19:16.764722Z"
    }
   },
   "outputs": [
    {
     "name": "stdout",
     "output_type": "stream",
     "text": [
      "('a', 1)\n",
      "('b', 2)\n"
     ]
    }
   ],
   "source": [
    "z = zip(['a', 'b'],  (1,2) )\n",
    "for v in z : \n",
    "    print(v)"
   ]
  },
  {
   "cell_type": "code",
   "execution_count": 32,
   "metadata": {
    "ExecuteTime": {
     "end_time": "2020-02-21T02:52:07.788816Z",
     "start_time": "2020-02-21T02:52:07.777845Z"
    }
   },
   "outputs": [
    {
     "ename": "IndexError",
     "evalue": "list index out of range",
     "output_type": "error",
     "traceback": [
      "\u001b[1;31m---------------------------------------------------------------------------\u001b[0m",
      "\u001b[1;31mIndexError\u001b[0m                                Traceback (most recent call last)",
      "\u001b[1;32m<ipython-input-32-e2a0dbef2ccb>\u001b[0m in \u001b[0;36m<module>\u001b[1;34m\u001b[0m\n\u001b[1;32m----> 1\u001b[1;33m \u001b[0md\u001b[0m \u001b[1;33m=\u001b[0m \u001b[0mdict\u001b[0m\u001b[1;33m(\u001b[0m\u001b[0mzip\u001b[0m\u001b[1;33m(\u001b[0m\u001b[1;33m[\u001b[0m\u001b[1;34m'id'\u001b[0m\u001b[1;33m,\u001b[0m \u001b[1;34m'title'\u001b[0m\u001b[1;33m,\u001b[0m \u001b[1;34m'cnt'\u001b[0m\u001b[1;33m,\u001b[0m \u001b[1;34m'userame'\u001b[0m\u001b[1;33m]\u001b[0m\u001b[1;33m,\u001b[0m  \u001b[0mresult\u001b[0m\u001b[1;33m[\u001b[0m\u001b[1;36m0\u001b[0m\u001b[1;33m]\u001b[0m  \u001b[1;33m)\u001b[0m\u001b[1;33m)\u001b[0m\u001b[1;33m\u001b[0m\u001b[1;33m\u001b[0m\u001b[0m\n\u001b[0m\u001b[0;32m      2\u001b[0m \u001b[0mprint\u001b[0m\u001b[1;33m(\u001b[0m\u001b[0md\u001b[0m\u001b[1;33m)\u001b[0m\u001b[1;33m\u001b[0m\u001b[1;33m\u001b[0m\u001b[0m\n",
      "\u001b[1;31mIndexError\u001b[0m: list index out of range"
     ]
    }
   ],
   "source": [
    "d = dict(zip(['id', 'title', 'cnt', 'userame'],  result[0]  ))\n",
    "print(d)"
   ]
  },
  {
   "cell_type": "code",
   "execution_count": 23,
   "metadata": {
    "ExecuteTime": {
     "end_time": "2020-02-21T02:19:21.752427Z",
     "start_time": "2020-02-21T02:19:21.747478Z"
    }
   },
   "outputs": [],
   "source": [
    "def dictfetchall(cursor):    \n",
    "    desc = cursor.description\n",
    "    return [\n",
    "        dict(zip([col[0] for col in desc], row))\n",
    "        for row in cursor.fetchall()\n",
    "    ]"
   ]
  },
  {
   "cell_type": "code",
   "execution_count": 30,
   "metadata": {
    "ExecuteTime": {
     "end_time": "2020-02-21T02:39:20.385862Z",
     "start_time": "2020-02-21T02:39:20.381938Z"
    }
   },
   "outputs": [
    {
     "name": "stdout",
     "output_type": "stream",
     "text": [
      "12345\n"
     ]
    }
   ],
   "source": [
    "cursor = connection.cursor()\n",
    "cursor.execute('SELECT * from myboard_board')\n",
    "d = dictfetchall(cursor)\n",
    "print(d[0][\"title\"])\n"
   ]
  },
  {
   "cell_type": "code",
   "execution_count": 25,
   "metadata": {
    "ExecuteTime": {
     "end_time": "2020-02-21T02:19:30.712479Z",
     "start_time": "2020-02-21T02:19:30.707494Z"
    }
   },
   "outputs": [],
   "source": [
    "category = 'common'\n",
    "page = 2\n",
    "username = 'home'\n",
    "\n",
    "\n",
    "#render(requst,  \"myboard/list3.html\", context)\n"
   ]
  },
  {
   "cell_type": "code",
   "execution_count": null,
   "metadata": {},
   "outputs": [],
   "source": []
  },
  {
   "cell_type": "code",
   "execution_count": 26,
   "metadata": {
    "ExecuteTime": {
     "end_time": "2020-02-21T02:19:35.057827Z",
     "start_time": "2020-02-21T02:19:34.835644Z"
    }
   },
   "outputs": [],
   "source": [
    "from django.test import RequestFactory\n",
    "rf =  RequestFactory()\n",
    "url = '/detailpost?pk=14'\n",
    "my_request = rf.get(url)"
   ]
  },
  {
   "cell_type": "code",
   "execution_count": 27,
   "metadata": {
    "ExecuteTime": {
     "end_time": "2020-02-21T02:19:35.666632Z",
     "start_time": "2020-02-21T02:19:35.652408Z"
    }
   },
   "outputs": [],
   "source": [
    "from myapp import views\n",
    "response = views.index(my_request)"
   ]
  },
  {
   "cell_type": "code",
   "execution_count": 28,
   "metadata": {
    "ExecuteTime": {
     "end_time": "2020-02-21T02:19:36.271162Z",
     "start_time": "2020-02-21T02:19:36.267164Z"
    }
   },
   "outputs": [
    {
     "name": "stdout",
     "output_type": "stream",
     "text": [
      "<class 'django.http.response.HttpResponse'>\n"
     ]
    }
   ],
   "source": [
    "print(type(response))\n"
   ]
  },
  {
   "cell_type": "code",
   "execution_count": 29,
   "metadata": {
    "ExecuteTime": {
     "end_time": "2020-02-21T02:19:37.504637Z",
     "start_time": "2020-02-21T02:19:37.500648Z"
    }
   },
   "outputs": [
    {
     "name": "stdout",
     "output_type": "stream",
     "text": [
      "hello django\n"
     ]
    }
   ],
   "source": [
    "print(response.content.decode())"
   ]
  },
  {
   "cell_type": "code",
   "execution_count": null,
   "metadata": {},
   "outputs": [],
   "source": []
  }
 ],
 "metadata": {
  "kernelspec": {
   "display_name": "Django Shell-Plus",
   "language": "python",
   "name": "django_extensions"
  },
  "language_info": {
   "codemirror_mode": {
    "name": "ipython",
    "version": 3
   },
   "file_extension": ".py",
   "mimetype": "text/x-python",
   "name": "python",
   "nbconvert_exporter": "python",
   "pygments_lexer": "ipython3",
   "version": "3.7.4"
  },
  "varInspector": {
   "cols": {
    "lenName": 16,
    "lenType": 16,
    "lenVar": 40
   },
   "kernels_config": {
    "python": {
     "delete_cmd_postfix": "",
     "delete_cmd_prefix": "del ",
     "library": "var_list.py",
     "varRefreshCmd": "print(var_dic_list())"
    },
    "r": {
     "delete_cmd_postfix": ") ",
     "delete_cmd_prefix": "rm(",
     "library": "var_list.r",
     "varRefreshCmd": "cat(var_dic_list()) "
    }
   },
   "types_to_exclude": [
    "module",
    "function",
    "builtin_function_or_method",
    "instance",
    "_Feature"
   ],
   "window_display": false
  }
 },
 "nbformat": 4,
 "nbformat_minor": 2
}
