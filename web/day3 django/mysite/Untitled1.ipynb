{
 "cells": [
  {
   "cell_type": "code",
   "execution_count": 1,
   "metadata": {
    "ExecuteTime": {
     "end_time": "2020-02-17T06:18:02.714412Z",
     "start_time": "2020-02-17T06:18:02.710423Z"
    }
   },
   "outputs": [],
   "source": [
    "from myapp.models import User"
   ]
  },
  {
   "cell_type": "markdown",
   "metadata": {},
   "source": [
    "## model manager\n",
    "- objects : CRUD를 담당하는 class"
   ]
  },
  {
   "cell_type": "code",
   "execution_count": 3,
   "metadata": {
    "ExecuteTime": {
     "end_time": "2020-02-17T06:20:43.283044Z",
     "start_time": "2020-02-17T06:20:43.279019Z"
    }
   },
   "outputs": [],
   "source": [
    "datas = User.objects.all()"
   ]
  },
  {
   "cell_type": "code",
   "execution_count": 8,
   "metadata": {
    "ExecuteTime": {
     "end_time": "2020-02-17T06:21:09.640393Z",
     "start_time": "2020-02-17T06:21:09.631222Z"
    }
   },
   "outputs": [
    {
     "name": "stdout",
     "output_type": "stream",
     "text": [
      "kim/김유신/20/승마\n",
      "lee/이순신/34/활쏘기\n",
      "hong/홍길동/24/동해번쩍\n"
     ]
    }
   ],
   "source": [
    "for d in datas:\n",
    "    print(d)"
   ]
  },
  {
   "cell_type": "code",
   "execution_count": 11,
   "metadata": {
    "ExecuteTime": {
     "end_time": "2020-02-17T06:30:09.922167Z",
     "start_time": "2020-02-17T06:30:09.918179Z"
    }
   },
   "outputs": [
    {
     "name": "stdout",
     "output_type": "stream",
     "text": [
      "20\n"
     ]
    }
   ],
   "source": [
    "print(datas[0].age)"
   ]
  },
  {
   "cell_type": "code",
   "execution_count": 12,
   "metadata": {
    "ExecuteTime": {
     "end_time": "2020-02-17T06:30:35.953949Z",
     "start_time": "2020-02-17T06:30:35.949960Z"
    }
   },
   "outputs": [
    {
     "name": "stdout",
     "output_type": "stream",
     "text": [
      "lee/이순신/34/활쏘기\n"
     ]
    }
   ],
   "source": [
    "for d in datas:\n",
    "    if d.age>30:\n",
    "        print(d)"
   ]
  },
  {
   "cell_type": "markdown",
   "metadata": {},
   "source": [
    "- for문을 사용해서 찾는건 속도측면에서 손해임.\n",
    "db의 기능을 이용해서 찾는게 좋음.\n",
    "filter 기능 사용할 것."
   ]
  },
  {
   "cell_type": "code",
   "execution_count": 17,
   "metadata": {
    "ExecuteTime": {
     "end_time": "2020-02-17T06:34:44.721562Z",
     "start_time": "2020-02-17T06:34:44.711094Z"
    }
   },
   "outputs": [
    {
     "name": "stdout",
     "output_type": "stream",
     "text": [
      "<QuerySet [<User: lee/이순신/34/활쏘기>, <User: hong/홍길동/24/동해번쩍>]>\n"
     ]
    }
   ],
   "source": [
    "print(datas.filter(age__gte=24))  ##gte = 크거나 같다."
   ]
  },
  {
   "cell_type": "code",
   "execution_count": 22,
   "metadata": {
    "ExecuteTime": {
     "end_time": "2020-02-17T06:37:19.797599Z",
     "start_time": "2020-02-17T06:37:19.791615Z"
    }
   },
   "outputs": [
    {
     "name": "stdout",
     "output_type": "stream",
     "text": [
      "<QuerySet [<User: lee/이순신/34/활쏘기>]>\n",
      "<QuerySet [<User: lee/이순신/34/활쏘기>]>\n"
     ]
    }
   ],
   "source": [
    "print(datas.filter(userid='lee', age__gte=24)) #두개의 필터도 가능.\n",
    "print(datas.filter(userid='lee').filter(age__gte=24)) #필터 체인 가능."
   ]
  },
  {
   "cell_type": "code",
   "execution_count": 26,
   "metadata": {
    "ExecuteTime": {
     "end_time": "2020-02-17T06:40:16.765793Z",
     "start_time": "2020-02-17T06:40:16.759810Z"
    }
   },
   "outputs": [
    {
     "name": "stdout",
     "output_type": "stream",
     "text": [
      "<QuerySet [<User: kim/김유신/20/승마>, <User: lee/이순신/34/활쏘기>]>\n",
      "<QuerySet [<User: kim/김유신/20/승마>, <User: lee/이순신/34/활쏘기>]>\n"
     ]
    }
   ],
   "source": [
    "print(datas.filter(name__contains='신'))\n",
    "print(datas.filter(name__icontains='신')) #i 쓰는 이유 : 대소문자 가리지 말고 찾을것. 영어 전용(ignore)"
   ]
  },
  {
   "cell_type": "code",
   "execution_count": 28,
   "metadata": {
    "ExecuteTime": {
     "end_time": "2020-02-17T06:44:45.924592Z",
     "start_time": "2020-02-17T06:44:45.921652Z"
    }
   },
   "outputs": [],
   "source": [
    "from django.db.models import Q  # or 필터"
   ]
  },
  {
   "cell_type": "code",
   "execution_count": 30,
   "metadata": {
    "ExecuteTime": {
     "end_time": "2020-02-17T06:46:00.869537Z",
     "start_time": "2020-02-17T06:46:00.863591Z"
    }
   },
   "outputs": [
    {
     "name": "stdout",
     "output_type": "stream",
     "text": [
      "<QuerySet [<User: lee/이순신/34/활쏘기>]>\n"
     ]
    }
   ],
   "source": [
    "print(datas.filter(Q(age__gte=25) | (Q(name='신'))))"
   ]
  },
  {
   "cell_type": "code",
   "execution_count": 12,
   "metadata": {
    "ExecuteTime": {
     "end_time": "2020-02-17T08:47:09.400651Z",
     "start_time": "2020-02-17T08:47:09.395615Z"
    }
   },
   "outputs": [
    {
     "data": {
      "text/plain": [
       "<User: song/송호성/1/ㅁㄴㅇ>"
      ]
     },
     "execution_count": 12,
     "metadata": {},
     "output_type": "execute_result"
    }
   ],
   "source": [
    "User.objects.all().get(userid='song')"
   ]
  }
 ],
 "metadata": {
  "kernelspec": {
   "display_name": "Django Shell-Plus",
   "language": "python",
   "name": "django_extensions"
  },
  "language_info": {
   "codemirror_mode": {
    "name": "ipython",
    "version": 3
   },
   "file_extension": ".py",
   "mimetype": "text/x-python",
   "name": "python",
   "nbconvert_exporter": "python",
   "pygments_lexer": "ipython3",
   "version": "3.7.4"
  },
  "varInspector": {
   "cols": {
    "lenName": 16,
    "lenType": 16,
    "lenVar": 40
   },
   "kernels_config": {
    "python": {
     "delete_cmd_postfix": "",
     "delete_cmd_prefix": "del ",
     "library": "var_list.py",
     "varRefreshCmd": "print(var_dic_list())"
    },
    "r": {
     "delete_cmd_postfix": ") ",
     "delete_cmd_prefix": "rm(",
     "library": "var_list.r",
     "varRefreshCmd": "cat(var_dic_list()) "
    }
   },
   "types_to_exclude": [
    "module",
    "function",
    "builtin_function_or_method",
    "instance",
    "_Feature"
   ],
   "window_display": false
  }
 },
 "nbformat": 4,
 "nbformat_minor": 2
}
