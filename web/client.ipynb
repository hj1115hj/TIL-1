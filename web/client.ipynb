{
 "cells": [
  {
   "cell_type": "code",
   "execution_count": 9,
   "metadata": {},
   "outputs": [
    {
     "name": "stdout",
     "output_type": "stream",
     "text": [
      "서버 접속 성공\n",
      "send message\n",
      "receive : hello\n",
      "종료\n"
     ]
    }
   ],
   "source": [
    "import socket\n",
    "\n",
    "sock = socket.socket(socket.AF_INET, socket.SOCK_STREAM) #TCP/IP\n",
    "\n",
    "sock.connect(('localhost', 12345))\n",
    "print('서버 접속 성공')\n",
    "\n",
    "sock.send('hello'.encode()) # 보낼때. 바이트 데이터로 인코딩.\n",
    "print('send message')\n",
    "\n",
    "data = sock.recv(65535) # 받을때. 64비트(8바이트)로 받음.\n",
    "print('receive : '+data.decode())\n",
    "print('종료')"
   ]
  }
 ],
 "metadata": {
  "kernelspec": {
   "display_name": "Python 3",
   "language": "python",
   "name": "python3"
  },
  "language_info": {
   "codemirror_mode": {
    "name": "ipython",
    "version": 3
   },
   "file_extension": ".py",
   "mimetype": "text/x-python",
   "name": "python",
   "nbconvert_exporter": "python",
   "pygments_lexer": "ipython3",
   "version": "3.7.4"
  }
 },
 "nbformat": 4,
 "nbformat_minor": 4
}
